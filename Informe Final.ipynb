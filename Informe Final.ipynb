{
 "cells": [
  {
   "cell_type": "markdown",
   "metadata": {},
   "source": [
    "<center><h1> Tarea 1 - Machine Learning </h1></center>\n",
    "<center><h3> Matías Ramírez Marianetti | Javier Rodríguez Aguilera</h3></center>\n",
    "<center><h3> 201173506-4 | 201173553-6 </h3></center>\n",
    "<center><h3> matias.ramirezm@alumnos.usm.cl | javier.rodriguez@alumnos.usm.cl </h3></center>"
   ]
  },
  {
   "cell_type": "markdown",
   "metadata": {},
   "source": [
    "# Pregunta 1"
   ]
  },
  {
   "cell_type": "markdown",
   "metadata": {},
   "source": [
    "Se utilizará un pequeño dataset de nombre prostate-cancer el cual es usado con frecuencia para realizar pruebas priliminares de con métodos de regresión. Estos datos consisten en la eventual correlación entre el nivel de antígeno prostático específico medido de un paciente, y otra serie de otras mediciones clínicas obtenidas después de practicar al paciente una prostatectonía radical."
   ]
  },
  {
   "cell_type": "markdown",
   "metadata": {},
   "source": [
    "##  Parte A: Cargar los Datos"
   ]
  },
  {
   "cell_type": "code",
   "execution_count": 1,
   "metadata": {
    "collapsed": false,
    "scrolled": true
   },
   "outputs": [],
   "source": [
    "import pandas as pd\n",
    "import numpy as np\n",
    "url = 'http://statweb.stanford.edu/~tibs/ElemStatLearn/datasets/prostate.data'\n",
    "df = pd.read_csv(url, sep='\\t', header=0)\n",
    "df = df.drop('Unnamed: 0', axis=1)\n",
    "istrain_str = df['train']\n",
    "istrain = np.asarray([True if s == 'T' else False for s in istrain_str])\n",
    "istest = np.logical_not(istrain)\n",
    "df = df.drop('train', axis=1)"
   ]
  },
  {
   "cell_type": "markdown",
   "metadata": {},
   "source": [
    "Para comenzar entre las lineas cinco(5) y nueve(9) de este algoritmo se elimina la columna que contiene el número de cada registro del dataset, de esta forma no se tendrá una variable innecesaria. Luego se toma la columna 'train' y a través de esta se generan dos arreglos, istrain e istest. En la línea de istrain se recorre la columna 'train' contenida en la variable istrain_str y se le coloca True a los datos en que 'train' sea 'T' y False en el caso contrario, de esta forma para el caso de istest se toma istrain y se invierten los valores booleanos de este. Finalmente se elimina la columna 'train', ya que sus valores serán utilizados a través de los arreglos anteriormente señalados."
   ]
  },
  {
   "cell_type": "markdown",
   "metadata": {},
   "source": [
    "##  Parte B: Descripción de los Datos"
   ]
  },
  {
   "cell_type": "code",
   "execution_count": 2,
   "metadata": {
    "collapsed": false
   },
   "outputs": [
    {
     "name": "stdout",
     "output_type": "stream",
     "text": [
      "<class 'pandas.core.frame.DataFrame'>\n",
      "RangeIndex: 97 entries, 0 to 96\n",
      "Data columns (total 9 columns):\n",
      "lcavol     97 non-null float64\n",
      "lweight    97 non-null float64\n",
      "age        97 non-null int64\n",
      "lbph       97 non-null float64\n",
      "svi        97 non-null int64\n",
      "lcp        97 non-null float64\n",
      "gleason    97 non-null int64\n",
      "pgg45      97 non-null int64\n",
      "lpsa       97 non-null float64\n",
      "dtypes: float64(5), int64(4)\n",
      "memory usage: 6.9 KB\n"
     ]
    },
    {
     "data": {
      "text/html": [
       "<div>\n",
       "<table border=\"1\" class=\"dataframe\">\n",
       "  <thead>\n",
       "    <tr style=\"text-align: right;\">\n",
       "      <th></th>\n",
       "      <th>lcavol</th>\n",
       "      <th>lweight</th>\n",
       "      <th>age</th>\n",
       "      <th>lbph</th>\n",
       "      <th>svi</th>\n",
       "      <th>lcp</th>\n",
       "      <th>gleason</th>\n",
       "      <th>pgg45</th>\n",
       "      <th>lpsa</th>\n",
       "    </tr>\n",
       "  </thead>\n",
       "  <tbody>\n",
       "    <tr>\n",
       "      <th>count</th>\n",
       "      <td>97.000000</td>\n",
       "      <td>97.000000</td>\n",
       "      <td>97.000000</td>\n",
       "      <td>97.000000</td>\n",
       "      <td>97.000000</td>\n",
       "      <td>97.000000</td>\n",
       "      <td>97.000000</td>\n",
       "      <td>97.000000</td>\n",
       "      <td>97.000000</td>\n",
       "    </tr>\n",
       "    <tr>\n",
       "      <th>mean</th>\n",
       "      <td>1.350010</td>\n",
       "      <td>3.628943</td>\n",
       "      <td>63.865979</td>\n",
       "      <td>0.100356</td>\n",
       "      <td>0.216495</td>\n",
       "      <td>-0.179366</td>\n",
       "      <td>6.752577</td>\n",
       "      <td>24.381443</td>\n",
       "      <td>2.478387</td>\n",
       "    </tr>\n",
       "    <tr>\n",
       "      <th>std</th>\n",
       "      <td>1.178625</td>\n",
       "      <td>0.428411</td>\n",
       "      <td>7.445117</td>\n",
       "      <td>1.450807</td>\n",
       "      <td>0.413995</td>\n",
       "      <td>1.398250</td>\n",
       "      <td>0.722134</td>\n",
       "      <td>28.204035</td>\n",
       "      <td>1.154329</td>\n",
       "    </tr>\n",
       "    <tr>\n",
       "      <th>min</th>\n",
       "      <td>-1.347074</td>\n",
       "      <td>2.374906</td>\n",
       "      <td>41.000000</td>\n",
       "      <td>-1.386294</td>\n",
       "      <td>0.000000</td>\n",
       "      <td>-1.386294</td>\n",
       "      <td>6.000000</td>\n",
       "      <td>0.000000</td>\n",
       "      <td>-0.430783</td>\n",
       "    </tr>\n",
       "    <tr>\n",
       "      <th>25%</th>\n",
       "      <td>0.512824</td>\n",
       "      <td>3.375880</td>\n",
       "      <td>60.000000</td>\n",
       "      <td>-1.386294</td>\n",
       "      <td>0.000000</td>\n",
       "      <td>-1.386294</td>\n",
       "      <td>6.000000</td>\n",
       "      <td>0.000000</td>\n",
       "      <td>1.731656</td>\n",
       "    </tr>\n",
       "    <tr>\n",
       "      <th>50%</th>\n",
       "      <td>1.446919</td>\n",
       "      <td>3.623007</td>\n",
       "      <td>65.000000</td>\n",
       "      <td>0.300105</td>\n",
       "      <td>0.000000</td>\n",
       "      <td>-0.798508</td>\n",
       "      <td>7.000000</td>\n",
       "      <td>15.000000</td>\n",
       "      <td>2.591516</td>\n",
       "    </tr>\n",
       "    <tr>\n",
       "      <th>75%</th>\n",
       "      <td>2.127041</td>\n",
       "      <td>3.876396</td>\n",
       "      <td>68.000000</td>\n",
       "      <td>1.558145</td>\n",
       "      <td>0.000000</td>\n",
       "      <td>1.178655</td>\n",
       "      <td>7.000000</td>\n",
       "      <td>40.000000</td>\n",
       "      <td>3.056357</td>\n",
       "    </tr>\n",
       "    <tr>\n",
       "      <th>max</th>\n",
       "      <td>3.821004</td>\n",
       "      <td>4.780383</td>\n",
       "      <td>79.000000</td>\n",
       "      <td>2.326302</td>\n",
       "      <td>1.000000</td>\n",
       "      <td>2.904165</td>\n",
       "      <td>9.000000</td>\n",
       "      <td>100.000000</td>\n",
       "      <td>5.582932</td>\n",
       "    </tr>\n",
       "  </tbody>\n",
       "</table>\n",
       "</div>"
      ],
      "text/plain": [
       "          lcavol    lweight        age       lbph        svi        lcp  \\\n",
       "count  97.000000  97.000000  97.000000  97.000000  97.000000  97.000000   \n",
       "mean    1.350010   3.628943  63.865979   0.100356   0.216495  -0.179366   \n",
       "std     1.178625   0.428411   7.445117   1.450807   0.413995   1.398250   \n",
       "min    -1.347074   2.374906  41.000000  -1.386294   0.000000  -1.386294   \n",
       "25%     0.512824   3.375880  60.000000  -1.386294   0.000000  -1.386294   \n",
       "50%     1.446919   3.623007  65.000000   0.300105   0.000000  -0.798508   \n",
       "75%     2.127041   3.876396  68.000000   1.558145   0.000000   1.178655   \n",
       "max     3.821004   4.780383  79.000000   2.326302   1.000000   2.904165   \n",
       "\n",
       "         gleason       pgg45       lpsa  \n",
       "count  97.000000   97.000000  97.000000  \n",
       "mean    6.752577   24.381443   2.478387  \n",
       "std     0.722134   28.204035   1.154329  \n",
       "min     6.000000    0.000000  -0.430783  \n",
       "25%     6.000000    0.000000   1.731656  \n",
       "50%     7.000000   15.000000   2.591516  \n",
       "75%     7.000000   40.000000   3.056357  \n",
       "max     9.000000  100.000000   5.582932  "
      ]
     },
     "execution_count": 2,
     "metadata": {},
     "output_type": "execute_result"
    }
   ],
   "source": [
    "df.shape\n",
    "df.info()\n",
    "df.describe()"
   ]
  },
  {
   "cell_type": "markdown",
   "metadata": {},
   "source": [
    "La tabla anterior muestra la naturaleza y disribución de los datos.\n",
    "\n",
    "En total son 97 registros de los cuales 67 corresponden a datos de entrenamiento del modelo y 30 son para probar el modelo. las columnas del 1 al 8 son predictores, y la última corresponde a la etiqueta de cada registro.\n",
    "\n",
    "5 de las variables son de tipo float, mientras que los otros 4 son de tipo entero. Además, a juzgar por las medias se puede deirque los datos no están normalizados."
   ]
  },
  {
   "cell_type": "markdown",
   "metadata": {},
   "source": [
    "##  Parte C: Normalización de los Datos"
   ]
  },
  {
   "cell_type": "markdown",
   "metadata": {},
   "source": [
    "La tabla anterior muestra que los datos tienen rango de valores distintos entre cada variable, la naturaleza y distibución de cada columna es diferente del resto.\n",
    "\n",
    "Lo anterior muchas veces ocaciona creaciones de modelos incorectos. Por lo tanto, resulta necesario normalizar los datos para arreglar las varianzas y de esta forma dejar los datos respecto a un mismo punto."
   ]
  },
  {
   "cell_type": "code",
   "execution_count": 3,
   "metadata": {
    "collapsed": false
   },
   "outputs": [],
   "source": [
    "from sklearn.preprocessing import StandardScaler\n",
    "scaler = StandardScaler()\n",
    "df_scaled = pd.DataFrame(scaler.fit_transform(df), columns=df.columns)\n",
    "df_scaled['lpsa'] = df['lpsa']"
   ]
  },
  {
   "cell_type": "markdown",
   "metadata": {},
   "source": [
    "##  Parte D: Creación del Modelo"
   ]
  },
  {
   "cell_type": "code",
   "execution_count": 4,
   "metadata": {
    "collapsed": false
   },
   "outputs": [
    {
     "name": "stdout",
     "output_type": "stream",
     "text": [
      "\n"
     ]
    }
   ],
   "source": [
    "import sklearn.linear_model as lm\n",
    "X = df_scaled.ix[:,:-1]\n",
    "N = X.shape[0]\n",
    "X.insert(X.shape[1], 'intercept', np.ones(N))\n",
    "y = df_scaled['lpsa']\n",
    "Xtrain = X[istrain]\n",
    "ytrain = y[istrain]\n",
    "Xtest = X[np.logical_not(istrain)]\n",
    "ytest = y[np.logical_not(istrain)]\n",
    "linreg = lm.LinearRegression(fit_intercept = False)\n",
    "linreg.fit(Xtrain, ytrain)\n",
    "print"
   ]
  },
  {
   "cell_type": "markdown",
   "metadata": {},
   "source": [
    "Lo importante del tercer paso, es agregar una nueva columna que contiene solamente unos(1), los cuales denotan a $x^{(0)}$ y de esta forma definir un modelo lineal con una intersección en forma matricial.\n",
    "\n",
    "El parametro especificado en la función que inicializa el modelo de regresión lineal es <i>fit_intercept</i>, indica si se calcula o no el intercepto para el modelo. En este caso no es necesario."
   ]
  },
  {
   "cell_type": "markdown",
   "metadata": {},
   "source": [
    "## Parte E: Pesos y Z-score de Predictores"
   ]
  },
  {
   "cell_type": "code",
   "execution_count": 5,
   "metadata": {
    "collapsed": false
   },
   "outputs": [
    {
     "name": "stdout",
     "output_type": "stream",
     "text": [
      "['lcavol' 'lweight' 'age' 'lbph' 'svi' 'lcp' 'gleason' 'pgg45' 'intercept']\n",
      "[ 0.676  0.262 -0.141  0.209  0.304 -0.287 -0.021  0.266  2.465]\n",
      "[  5.32    2.727  -1.384   2.038   2.448  -1.851  -0.145   1.723  27.359]\n"
     ]
    }
   ],
   "source": [
    "Beta_j = linreg.coef_\n",
    "\n",
    "N = Xtrain.shape[0]\n",
    "p = Xtrain.shape[1]\n",
    "\n",
    "sigma = ( 1.0/(N-p-1) ) * np.sum( np.power(ytrain - linreg.predict(Xtrain), 2) )\n",
    "\n",
    "v_j = np.diag(np.linalg.inv( np.dot(Xtrain.transpose(), Xtrain) ))\n",
    "\n",
    "Z_score_j = Beta_j / np.sqrt( sigma * v_j )\n",
    "\n",
    "print X.columns.values\n",
    "print np.round(Beta_j, 3)\n",
    "print np.round(Z_score_j, 3)"
   ]
  },
  {
   "cell_type": "markdown",
   "metadata": {},
   "source": [
    "La salida del código anterior muestra los pesos en la primera fila y los valores de Z-score en la segunda fila, en el orden respectivo conforme a las cabeceras del set de datos.\n",
    "\n",
    "Para un nivel de significancia de un $5\\%$, las variables sin suficiente evidencia que demuestre una relación con la respuesta son aquellas con un z-score fuera del rango entre $-2$ y $2$. Es decir las variables <i>lcavol</i>, <i>lweight</i>, <i>lbph</i> y <i>svi</i>."
   ]
  },
  {
   "cell_type": "markdown",
   "metadata": {},
   "source": [
    "## Parte F: Estimación del Error del Modelo"
   ]
  },
  {
   "cell_type": "code",
   "execution_count": 6,
   "metadata": {
    "collapsed": false
   },
   "outputs": [
    {
     "name": "stdout",
     "output_type": "stream",
     "text": [
      "Error de prueba:\n",
      "mse: 0.5213\n",
      "\n",
      "Error de entrenmiento, fold k = 5:\n",
      "mse: 0.9565\n",
      "\n",
      "Error de entrenamiento, fold k = 10:\n",
      "mse: 0.7572\n"
     ]
    }
   ],
   "source": [
    "from sklearn import cross_validation\n",
    "\n",
    "def mse_cross_validation(x, y, K):\n",
    "    k_fold = cross_validation.KFold(len(x),K)\n",
    "    mse_cv = 0\n",
    "    for k, (train, val) in enumerate(k_fold):\n",
    "        linreg = lm.LinearRegression(fit_intercept = False)\n",
    "        linreg.fit(x[train], y[train])\n",
    "        yhat_val = linreg.predict(x[val])\n",
    "        mse_fold = np.mean(np.power(yhat_val - y[val], 2))\n",
    "        mse_cv += mse_fold\n",
    "        \n",
    "    mse_cv = mse_cv / K\n",
    "    \n",
    "    return mse_cv\n",
    "\n",
    "yhat_test = linreg.predict(Xtest)\n",
    "mse_test = np.mean(np.power(yhat_test - ytest, 2))\n",
    "\n",
    "Xm = Xtrain.as_matrix()\n",
    "ym = ytrain.as_matrix()\n",
    "\n",
    "K=5\n",
    "mse_train_5 = mse_cross_validation(Xm, ym, K)\n",
    "\n",
    "K=10\n",
    "mse_train_10 = mse_cross_validation(Xm, ym, K)\n",
    "\n",
    "print \"Error de prueba:\"\n",
    "print \"mse:\", np.round(mse_test, 4)\n",
    "print\n",
    "print \"Error de entrenmiento, fold k = 5:\"\n",
    "print \"mse:\",np.round(mse_train_5, 4)\n",
    "print\n",
    "print \"Error de entrenamiento, fold k = 10:\"\n",
    "print \"mse:\", np.round(mse_train_10, 4)"
   ]
  },
  {
   "cell_type": "markdown",
   "metadata": {},
   "source": [
    "A partir de los resultados obtenidos es posible obtener dos observaciones relevantes. En primer lugar medida que se van aumentando los folds el error irá disminuyendo debido a que la cantidad de valores de entrenamiento aumenta por lo que el modelo tiene un mayor volumen de datos para ajustarse correctamente.\n",
    "\n",
    "En segundo lugar, los errores de entrenamiento son mayores al error de prueba del modelo, esto se debe a que existe un sobreajuste del modelo sobre los datos de entrenamiento.\n",
    "\n",
    "Podría resultar conveniente remover las variables que no tienen significancia en la respuesta del modelo y así veificar si se disminuye el sobreajuste."
   ]
  },
  {
   "cell_type": "markdown",
   "metadata": {},
   "source": [
    "## Parte G: Hipótesis de Normalidad"
   ]
  },
  {
   "cell_type": "markdown",
   "metadata": {},
   "source": [
    "Se procede a generar un gráfico Q-Q para corroborar la hipótesis de normlidd de los errores del modelo."
   ]
  },
  {
   "cell_type": "code",
   "execution_count": 7,
   "metadata": {
    "collapsed": false
   },
   "outputs": [
    {
     "data": {
      "image/png": "[encoded data removed]",
      "text/plain": [
       "<matplotlib.figure.Figure at 0xc75c6a0>"
      ]
     },
     "metadata": {},
     "output_type": "display_data"
    }
   ],
   "source": [
    "%matplotlib inline\n",
    "\n",
    "import statsmodels.api as sm\n",
    "import pylab\n",
    "\n",
    "yhat_train = linreg.predict(Xtrain)\n",
    "mse_train = yhat_train - ytrain\n",
    "\n",
    "sm.qqplot(mse_train, line='r')\n",
    "\n",
    "pylab.show()"
   ]
  },
  {
   "cell_type": "markdown",
   "metadata": {},
   "source": [
    "Los errores de entrenamiento del modelo siguen una tendencia lineal como se muestra en el gráfico anterior. Esto muestra que es razonable la hipótesis de normalidad sobre los residuos."
   ]
  },
  {
   "cell_type": "markdown",
   "metadata": {},
   "source": [
    "# Pregunta 2"
   ]
  },
  {
   "cell_type": "markdown",
   "metadata": {},
   "source": [
    "## Parte A: Forward Step-wise Selection"
   ]
  },
  {
   "cell_type": "code",
   "execution_count": 8,
   "metadata": {
    "collapsed": false
   },
   "outputs": [],
   "source": [
    "def fss(x_tst, y_tst, x, y, names_x, k = 10000):\n",
    "    p = x.shape[1]-1\n",
    "    k = min(p, k)\n",
    "    names_x = np.array(names_x)\n",
    "    remaining = range(0, p)\n",
    "    selected = [p]\n",
    "    current_score = 0.0\n",
    "    best_new_score = 0.0\n",
    "    \n",
    "    mses_train = []\n",
    "    mses_test = []\n",
    "    while remaining and len(selected)<=k :\n",
    "        score_candidates = []\n",
    "        for candidate in remaining:\n",
    "            model = lm.LinearRegression(fit_intercept=False)\n",
    "            indexes = selected + [candidate]\n",
    "            x_train = x[:,indexes]\n",
    "            x_test = x_tst[:,indexes]\n",
    "            \n",
    "            mse_train_cv = mse_cross_validation(x_train, y, 15)\n",
    "            \n",
    "            z_score_candidate = abs(Z_score_j.tolist()[candidate])\n",
    "            \n",
    "            model.fit(x_train, y)\n",
    "            \n",
    "            predictions_train = model.predict(x_train)\n",
    "            residuals_train = predictions_train - y\n",
    "            mse_train_candidate = np.mean(np.power(residuals_train, 2))\n",
    "            \n",
    "            predictions_test = model.predict(x_test)\n",
    "            residuals_test = predictions_test - y_tst\n",
    "            mse_test_candidate = np.mean(np.power(residuals_test, 2))\n",
    "            \n",
    "            # cambiar por: mse_train_candidate, mse_train_cv, z_score_candidate\n",
    "            current_score = mse_train_cv\n",
    "            \n",
    "            score_candidates.append((current_score, mse_train_candidate, mse_test_candidate, candidate))\n",
    "            \n",
    "        score_candidates.sort()\n",
    "        score_candidates[:] = score_candidates[::-1]\n",
    "        best_new_score, best_candidate_mse_train, best_candidate_mse_test, best_candidate = score_candidates.pop()\n",
    "        remaining.remove(best_candidate)\n",
    "        selected.append(best_candidate)\n",
    "        print \"totalvars = %d\"%(len(indexes)-1)\n",
    "        print \"selected = %s | mse train = %f | mse test = %f\"%(names_x[best_candidate], best_candidate_mse_train, best_candidate_mse_test)\n",
    "        print\n",
    "        \n",
    "        mses_train.append(best_candidate_mse_train)\n",
    "        mses_test.append(best_candidate_mse_test)\n",
    "        \n",
    "    return mses_train, mses_test"
   ]
  },
  {
   "cell_type": "markdown",
   "metadata": {},
   "source": [
    "El criterio utilizado en el código de ejemplo es elegir la variable que genere el menor error de entrenamiento calculado mediante error cuadrático. En el código anterior se implemenan dos criterios distintos con el fin de elegir el que entrege mejores resultados.\n",
    "\n",
    "El primer criterio es similar al utilizado en el ejemplo, con la diferencia que el error de entrenamiento es calculado mediante cross-validation. El segundo criterio elige la variable con el menor z-score.\n",
    "\n",
    "Los mejores resultados son entregados utilizando el primer criterio, con cross-validation, ya que presenta menores errores de prueba y de entrenamiento."
   ]
  },
  {
   "cell_type": "code",
   "execution_count": 9,
   "metadata": {
    "collapsed": false,
    "scrolled": false
   },
   "outputs": [
    {
     "name": "stdout",
     "output_type": "stream",
     "text": [
      "totalvars = 1\n",
      "selected = Lcavol | mse train = 0.664606 | mse test = 0.479739\n",
      "\n",
      "totalvars = 2\n",
      "selected = Lweight | mse train = 0.553610 | mse test = 0.492482\n",
      "\n",
      "totalvars = 3\n",
      "selected = Pgg45 | mse train = 0.528866 | mse test = 0.492593\n",
      "\n",
      "totalvars = 4\n",
      "selected = Lcp | mse train = 0.518607 | mse test = 0.569762\n",
      "\n",
      "totalvars = 5\n",
      "selected = Age | mse train = 0.506216 | mse test = 0.551618\n",
      "\n",
      "totalvars = 6\n",
      "selected = Svi | mse train = 0.471234 | mse test = 0.488041\n",
      "\n",
      "totalvars = 7\n",
      "selected = Lbph | mse train = 0.439363 | mse test = 0.516513\n",
      "\n",
      "totalvars = 8\n",
      "selected = Gleason | mse train = 0.439200 | mse test = 0.521274\n",
      "\n"
     ]
    },
    {
     "data": {
      "image/png": "[encoded data removed]",
      "text/plain": [
       "<matplotlib.figure.Figure at 0xc9658d0>"
      ]
     },
     "metadata": {},
     "output_type": "display_data"
    }
   ],
   "source": [
    "import matplotlib.pyplot as plt\n",
    "\n",
    "names_regressors = [\"Lcavol\", \"Lweight\", \"Age\", \"Lbph\", \"Svi\", \"Lcp\", \"Gleason\", \"Pgg45\"]\n",
    "mses_train, mses_test = fss(Xtest.as_matrix(),ytest.as_matrix(),Xm,ym,names_regressors)\n",
    "\n",
    "plt.plot(range(1,9), mses_train, label=\"mse train\")\n",
    "plt.plot(range(1,9), mses_test, label=\"mse test\")\n",
    "plt.ylabel('mse')\n",
    "plt.xlabel('totalvars')\n",
    "plt.legend(bbox_to_anchor=(1.05, 1), loc=2, borderaxespad=0.)\n",
    "plt.show()"
   ]
  },
  {
   "cell_type": "markdown",
   "metadata": {},
   "source": [
    "Se puede observar del gráfico obtenido que el error de entrenamiento disminuye conforme se agregan nuevas variables, esto se debe a que el modelo se va sobreajustando cada ves más, ya que el error es calculado con los mismos datos con que se creó el modelo.\n",
    "\n",
    "Sin embargo, al probar el modelo con los datos de prueba no ocurre el mismo fenómeno. este oscila el valor del error al variar la cantidad de variables consideradas.\n",
    "\n",
    "Cada vez que la curva de entrenamiento esta muy por debajo de la curva de prueba, se trata de un sobreajuste del modelo. Esto ocurre con 4, 5 y 7 y 8 variables. Por otro lado, con 6 variables las curvas están cercanas, por lo que no se considera sobreajuste.\n",
    "\n",
    "A partir del gráfico, y tomando en consideración lo anterior, es posible determinar la cantidad de variables óptimas que se deben considerar al momento de crear el modelo. Es importante descartar los casos donde exista sobreajuste del modelo, y los casos donde el error de entrenamiento sea muy alto. Los más conveniente es elegir una buena convinación entre ambos errores. Así, la más conveniente cantidad de variables a considerar es de 6, donde el error de prueba es menor entre las opciones factibles."
   ]
  },
  {
   "cell_type": "markdown",
   "metadata": {},
   "source": [
    "## Parte B: Backward Step-wise Selection"
   ]
  },
  {
   "cell_type": "code",
   "execution_count": 10,
   "metadata": {
    "collapsed": true
   },
   "outputs": [],
   "source": [
    "def bss(x_tst, y_tst, x, y, names_x, k = 10000):\n",
    "    p = x.shape[1]\n",
    "    k = min(p, k)\n",
    "    names_x = np.array(names_x)\n",
    "    remaining = range(0, p)\n",
    "    selected = []\n",
    "    current_score = 0.0\n",
    "    best_new_score = 0.0\n",
    "    \n",
    "    first_model = lm.LinearRegression(fit_intercept=False)\n",
    "    first_model.fit(x, y)\n",
    "    \n",
    "    mse_train = np.mean(np.power(first_model.predict(x) - y, 2))\n",
    "    mse_test = np.mean(np.power(first_model.predict(x_tst) - y_tst, 2))\n",
    "    \n",
    "    print \"totalvars = %d\"%(p-1)\n",
    "    print \"removed = none | mse train = %f | mse test = %f\"%(mse_train, mse_test)\n",
    "    print\n",
    "    \n",
    "    mses_train = [mse_train]\n",
    "    mses_test = [mse_test]\n",
    "    while len(remaining)>2 :\n",
    "        score_candidates = []\n",
    "        for candidate in remaining:\n",
    "            model = lm.LinearRegression(fit_intercept=False)\n",
    "            indexes = remaining[:]\n",
    "            indexes.remove(candidate)\n",
    "            x_train = x[:,indexes]\n",
    "            x_test = x_tst[:,indexes]\n",
    "            \n",
    "            model.fit(x_train, y)\n",
    "            \n",
    "            predictions_train = model.predict(x_train)\n",
    "            residuals_train = predictions_train - y\n",
    "            mse_train_candidate = np.mean(np.power(residuals_train, 2))\n",
    "            \n",
    "            predictions_test = model.predict(x_test)\n",
    "            residuals_test = predictions_test - y_tst\n",
    "            mse_test_candidate = np.mean(np.power(residuals_test, 2))\n",
    "            \n",
    "            current_score = mse_train_candidate\n",
    "            \n",
    "            score_candidates.append((current_score, mse_train_candidate, mse_test_candidate, candidate))\n",
    "            \n",
    "        score_candidates.sort()\n",
    "        score_candidates[:] = score_candidates[::-1]\n",
    "        best_new_score, best_candidate_mse_train, best_candidate_mse_test, best_candidate = score_candidates.pop()\n",
    "        remaining.remove(best_candidate)\n",
    "        selected.append(best_candidate)\n",
    "        print \"totalvars = %d\"%(len(indexes)-1)\n",
    "        print \"removed = %s | mse train = %f | mse test = %f\"%(names_x[best_candidate], best_candidate_mse_train, best_candidate_mse_test)\n",
    "        print\n",
    "        \n",
    "        mses_train.append(best_candidate_mse_train)\n",
    "        mses_test.append(best_candidate_mse_test)\n",
    "\n",
    "    return mses_train, mses_test"
   ]
  },
  {
   "cell_type": "markdown",
   "metadata": {},
   "source": [
    "Se desea realizar análisis similar al anterior, donde esta vez se irá eliminando variables del modelo una por una para determianr un escenario óptimo."
   ]
  },
  {
   "cell_type": "code",
   "execution_count": 11,
   "metadata": {
    "collapsed": false
   },
   "outputs": [
    {
     "name": "stdout",
     "output_type": "stream",
     "text": [
      "totalvars = 8\n",
      "removed = none | mse train = 0.439200 | mse test = 0.521274\n",
      "\n",
      "totalvars = 7\n",
      "removed = Gleason | mse train = 0.439363 | mse test = 0.516513\n",
      "\n",
      "totalvars = 6\n",
      "removed = Age | mse train = 0.455818 | mse test = 0.548593\n",
      "\n",
      "totalvars = 5\n",
      "removed = Lcp | mse train = 0.478648 | mse test = 0.485924\n",
      "\n",
      "totalvars = 4\n",
      "removed = Pgg45 | mse train = 0.489776 | mse test = 0.456332\n",
      "\n",
      "totalvars = 3\n",
      "removed = Lbph | mse train = 0.521011 | mse test = 0.400531\n",
      "\n",
      "totalvars = 2\n",
      "removed = Svi | mse train = 0.553610 | mse test = 0.492482\n",
      "\n",
      "totalvars = 1\n",
      "removed = Lweight | mse train = 0.664606 | mse test = 0.479739\n",
      "\n"
     ]
    },
    {
     "name": "stderr",
     "output_type": "stream",
     "text": [
      "C:\\Users\\Javier\\Anaconda2\\lib\\site-packages\\matplotlib\\figure.py:397: UserWarning: matplotlib is currently using a non-GUI backend, so cannot show the figure\n",
      "  \"matplotlib is currently using a non-GUI backend, \"\n"
     ]
    },
    {
     "data": {
      "image/png": "[encoded data removed]",
      "text/plain": [
       "<matplotlib.figure.Figure at 0x818ab38>"
      ]
     },
     "metadata": {},
     "output_type": "display_data"
    }
   ],
   "source": [
    "import matplotlib.pyplot as plt\n",
    "\n",
    "mses_train, mses_test = bss(Xtest.as_matrix(),ytest.as_matrix(),Xm,ym,names_regressors)\n",
    "\n",
    "eje_x = range(1,9)[::-1]\n",
    "\n",
    "fig = plt.figure()\n",
    "\n",
    "ax = fig.add_subplot(111)\n",
    "\n",
    "ax.plot(mses_train, label=\"mse train\")\n",
    "ax.plot(mses_test, label=\"mse test\")\n",
    "plt.ylabel('mse')\n",
    "plt.xlabel('totalvars')\n",
    "plt.legend(bbox_to_anchor=(1.05, 1), loc=2, borderaxespad=0.)\n",
    "\n",
    "#plt.set_xticklabels(eje_x)\n",
    "\n",
    "ax.set_xticklabels(eje_x)\n",
    "\n",
    "fig.show()\n",
    "\n"
   ]
  },
  {
   "cell_type": "markdown",
   "metadata": {},
   "source": [
    "El error de entrenamiento va aumentando a medida que dismiuye la cantidad de variables para entrenar el modelo, esto ya que entre más variables ocupa el modelo, mejor será la predicción para los mismos registros con los que se entrenó, debido al sobre ajuste que se genera.\n",
    "\n",
    "Por otra parte, la curva de error para los datos de prueba oscilan  medida que se varía la cantidad de variables. Es claro a partir del gráfico que la mejor opción es con 3 variables, <i>Lcavol</i>, <i>Lweight</i> y <i>Svi</i>. Esto debido a que unicamente con estas variables en el modelo, el error de prueba es menor."
   ]
  },
  {
   "cell_type": "markdown",
   "metadata": {},
   "source": [
    "# Pregunta 3"
   ]
  },
  {
   "cell_type": "markdown",
   "metadata": {},
   "source": [
    "## Parte A"
   ]
  },
  {
   "cell_type": "markdown",
   "metadata": {},
   "source": [
    "La Ridge Regression penalizará sus coeficientes, de tal manera que los que son menos eficientes en la estimación se achicarán de forma más rápida. Es como que se tenga un presupuesto asignado y cada coeficiente puede sacar un poco y usarlo para participar en la estimación. Los que sean más importantes tomarán una mayor cantidad. A medida que se aumenta el alpha, se está disminuyendo este presupuesto, en otras palabras, penalizando más. En el gráfico, cada línea representa un coeficiente al cual su valor va reduciéndose a cero a medida que se acorta el presupuesto o se penaliza más(se achica alpha). Si uno quisiese escojer el mejor alpha se debería consultar a un gráfico MSE vs alpha, aunque se podría decir que mientras más rápido se achique un coeficiente, menos importante es en la predicción.\n"
   ]
  },
  {
   "cell_type": "code",
   "execution_count": 14,
   "metadata": {
    "collapsed": false
   },
   "outputs": [
    {
     "name": "stdout",
     "output_type": "stream",
     "text": [
      "(50L,)\n",
      "(50L,)\n",
      "(50L,)\n",
      "(50L,)\n",
      "(50L,)\n",
      "(50L,)\n",
      "(50L,)\n",
      "(50L,)\n",
      "(50L,)\n",
      "(50L,)\n",
      "(50L,)\n",
      "(50L,)\n",
      "(50L,)\n",
      "(50L,)\n",
      "(50L,)\n",
      "(50L,)\n"
     ]
    },
    {
     "data": {
      "image/png": "[encoded data removed]",
      "text/plain": [
       "<matplotlib.figure.Figure at 0xafce780>"
      ]
     },
     "metadata": {},
     "output_type": "display_data"
    }
   ],
   "source": [
    "from sklearn.linear_model import Ridge\n",
    "import matplotlib.pylab as plt\n",
    "\n",
    "#if (X['intercept']):\n",
    " #   X = X.drop('intercept', axis=1)\n",
    "\n",
    "Xtrain = X[istrain]\n",
    "ytrain = y[istrain]\n",
    "names_regressors = [\"Lcavol\", \"Lweight\", \"Age\", \"Lbph\", \"Svi\", \"Lcp\", \"Gleason\", \"Pgg45\"]\n",
    "alphas_ = np.logspace(4,-1,base=10)\n",
    "coefs = []\n",
    "model = Ridge(fit_intercept=True,solver='svd')\n",
    "for a in alphas_:\n",
    "    model.set_params(alpha=a)\n",
    "    model.fit(Xtrain, ytrain)\n",
    "    coefs.append(model.coef_)\n",
    "ax = plt.gca()\n",
    "for y_arr, label in zip(np.squeeze(coefs).T, names_regressors):\n",
    "    print alphas_.shape\n",
    "    print y_arr.shape\n",
    "    plt.plot(alphas_, y_arr, label=label)\n",
    "plt.legend()\n",
    "ax.set_xscale('log')\n",
    "ax.set_xlim(ax.get_xlim()[::-1]) # reverse axis\n",
    "plt.xlabel('alpha')\n",
    "plt.ylabel('weights')\n",
    "plt.title('Regularization Path RIDGE')\n",
    "plt.axis('tight')\n",
    "plt.legend(loc=2)\n",
    "plt.show()"
   ]
  },
  {
   "cell_type": "markdown",
   "metadata": {},
   "source": [
    "## Parte B"
   ]
  },
  {
   "cell_type": "markdown",
   "metadata": {},
   "source": [
    "Lasso aplica un termino de penalización a la minimización. Cuando alpha es $0$, no hay penalización y se tiene la solución OLS, esto es máximo $\\beta$. Mientras la penalización aumenta, $\\beta$ es llevado a $0$, con los parámetros menos importantes llevados más rapidamente. En algún punto de alpha, todos los pesos $\\beta$ llegan a $0$."
   ]
  },
  {
   "cell_type": "code",
   "execution_count": 15,
   "metadata": {
    "collapsed": false
   },
   "outputs": [
    {
     "name": "stdout",
     "output_type": "stream",
     "text": [
      "(50L,)\n",
      "(50L,)\n",
      "(50L,)\n",
      "(50L,)\n",
      "(50L,)\n",
      "(50L,)\n",
      "(50L,)\n",
      "(50L,)\n",
      "(50L,)\n",
      "(50L,)\n",
      "(50L,)\n",
      "(50L,)\n",
      "(50L,)\n",
      "(50L,)\n",
      "(50L,)\n",
      "(50L,)\n"
     ]
    },
    {
     "data": {
      "image/png": "[encoded data removed]",
      "text/plain": [
       "<matplotlib.figure.Figure at 0xcac6e10>"
      ]
     },
     "metadata": {},
     "output_type": "display_data"
    }
   ],
   "source": [
    "from sklearn.linear_model import Lasso\n",
    "\n",
    "#X = X.drop('intercept', axis=1)\n",
    "Xtrain = X[istrain]\n",
    "ytrain = y[istrain]\n",
    "names_regressors = [\"Lcavol\", \"Lweight\", \"Age\", \"Lbph\", \"Svi\", \"Lcp\", \"Gleason\", \"Pgg45\"]\n",
    "alphas_ = np.logspace(1,-2,base=10)\n",
    "coefs = []\n",
    "clf = Lasso(fit_intercept=True)\n",
    "for a in alphas_:\n",
    "    clf.set_params(alpha=a)\n",
    "    clf.fit(Xtrain, ytrain)\n",
    "    coefs.append(clf.coef_)\n",
    "ax = plt.gca()\n",
    "for y_arr, label in zip(np.squeeze(coefs).T, names_regressors):\n",
    "    print alphas_.shape\n",
    "    print y_arr.shape\n",
    "    plt.plot(alphas_, y_arr, label=label)\n",
    "plt.legend()\n",
    "ax.set_xscale('log')\n",
    "ax.set_xlim(ax.get_xlim()[::-1]) # reverse axis\n",
    "plt.xlabel('alpha')\n",
    "plt.ylabel('weights')\n",
    "plt.title('Regularization Path RIDGE')\n",
    "plt.axis('tight')\n",
    "plt.legend(loc=2)\n",
    "plt.show()"
   ]
  },
  {
   "cell_type": "markdown",
   "metadata": {},
   "source": [
    "## Parte C"
   ]
  },
  {
   "cell_type": "code",
   "execution_count": 16,
   "metadata": {
    "collapsed": false
   },
   "outputs": [
    {
     "data": {
      "image/png": "[encoded data removed]",
      "text/plain": [
       "<matplotlib.figure.Figure at 0xce5ccc0>"
      ]
     },
     "metadata": {},
     "output_type": "display_data"
    }
   ],
   "source": [
    "Xtest = X[np.logical_not(istrain)]\n",
    "ytest = y[np.logical_not(istrain)]\n",
    "alphas_ = np.logspace(2,-2,base=10)\n",
    "coefs = []\n",
    "model = Ridge(fit_intercept=True)\n",
    "mse_test = []\n",
    "mse_train = []\n",
    "for a in alphas_:\n",
    "    model.set_params(alpha=a)\n",
    "    model.fit(Xtrain, ytrain)\n",
    "    yhat_train = model.predict(Xtrain)\n",
    "    yhat_test = model.predict(Xtest)\n",
    "    mse_train.append(np.mean(np.power(yhat_train - ytrain, 2)))\n",
    "    mse_test.append(np.mean(np.power(yhat_test - ytest, 2)))\n",
    "ax = plt.gca()\n",
    "ax.plot(alphas_,mse_train,label='train error ridge')\n",
    "ax.plot(alphas_,mse_test,label='test error ridge')\n",
    "plt.legend(loc=2)\n",
    "ax.set_xscale('log')\n",
    "ax.set_xlim(ax.get_xlim()[::-1])\n",
    "plt.show()"
   ]
  },
  {
   "cell_type": "markdown",
   "metadata": {},
   "source": [
    "A partir del punto de intersección de las curvas del gráfico hacia adelante (alpha más pequeño), se puede apreciar un sobre ajuste del modelo ya que el error de entrenamiento es menor que el de prueba.\n",
    "\n",
    "Por otro lado, con alphas altos como en la primera parte del gráfico (de la intersección hacia atrás) se nota que con una mayor penalización significa tener pesos más grandes, lo que significa tener coeficientes más grandes y así evitar el sobre ajuste del modelo y obtener errores más pequeños."
   ]
  },
  {
   "cell_type": "markdown",
   "metadata": {},
   "source": [
    "## Parte D"
   ]
  },
  {
   "cell_type": "code",
   "execution_count": 17,
   "metadata": {
    "collapsed": false
   },
   "outputs": [
    {
     "data": {
      "image/png": "[encoded data removed]",
      "text/plain": [
       "<matplotlib.figure.Figure at 0xe0bc160>"
      ]
     },
     "metadata": {},
     "output_type": "display_data"
    }
   ],
   "source": [
    "Xtest = X[np.logical_not(istrain)]\n",
    "ytest = y[np.logical_not(istrain)]\n",
    "alphas_ = np.logspace(0.5,2,base=10)\n",
    "coefs = []\n",
    "model = Lasso(fit_intercept=True)\n",
    "mse_test = []\n",
    "mse_train = []\n",
    "for a in alphas_:\n",
    "    model.set_params(alpha=a)\n",
    "    model.fit(Xtrain, ytrain)\n",
    "    yhat_train = model.predict(Xtrain)\n",
    "    yhat_test = model.predict(Xtest)\n",
    "    mse_train.append(np.mean(np.power(yhat_train - ytrain, 2)))\n",
    "    mse_test.append(np.mean(np.power(yhat_test - ytest, 2)))\n",
    "ax = plt.gca()\n",
    "ax.plot(alphas_,mse_train,label='train error ridge')\n",
    "ax.plot(alphas_,mse_test,label='test error ridge')\n",
    "plt.legend(loc=2)\n",
    "ax.set_xscale('log')\n",
    "ax.set_xlim(ax.get_xlim()[::-1])\n",
    "plt.show()"
   ]
  },
  {
   "cell_type": "markdown",
   "metadata": {},
   "source": []
  },
  {
   "cell_type": "markdown",
   "metadata": {},
   "source": [
    "## Parte E"
   ]
  },
  {
   "cell_type": "code",
   "execution_count": 18,
   "metadata": {
    "collapsed": false
   },
   "outputs": [
    {
     "name": "stdout",
     "output_type": "stream",
     "text": [
      "BEST PARAMETER=3.162278, MSE(CV)=1.795596\n"
     ]
    }
   ],
   "source": [
    "def MSE(y,yhat): return np.mean(np.power(y-yhat,2))\n",
    "Xm = Xtrain.as_matrix()\n",
    "ym = ytrain.as_matrix()\n",
    "k_fold = cross_validation.KFold(len(Xm),10)\n",
    "best_cv_mse = float(\"inf\")\n",
    "model = Lasso(fit_intercept=True)\n",
    "for a in alphas_:\n",
    "    model.set_params(alpha=a)\n",
    "    mse_list_k10 = [MSE(model.fit(Xm[train], ym[train]).predict(Xm[val]), ym[val]) \\\n",
    "                    for train, val in k_fold]\n",
    "    if np.mean(mse_list_k10) < best_cv_mse:\n",
    "        best_cv_mse = np.mean(mse_list_k10)\n",
    "        best_alpha = a\n",
    "        print \"BEST PARAMETER=%f, MSE(CV)=%f\"%(best_alpha,best_cv_mse)"
   ]
  },
  {
   "cell_type": "code",
   "execution_count": null,
   "metadata": {
    "collapsed": true
   },
   "outputs": [],
   "source": []
  },
  {
   "cell_type": "code",
   "execution_count": null,
   "metadata": {
    "collapsed": true
   },
   "outputs": [],
   "source": []
  }
 ],
 "metadata": {
  "anaconda-cloud": {},
  "kernelspec": {
   "display_name": "Python [Root]",
   "language": "python",
   "name": "Python [Root]"
  },
  "language_info": {
   "codemirror_mode": {
    "name": "ipython",
    "version": 2
   },
   "file_extension": ".py",
   "mimetype": "text/x-python",
   "name": "python",
   "nbconvert_exporter": "python",
   "pygments_lexer": "ipython2",
   "version": "2.7.12"
  }
 },
 "nbformat": 4,
 "nbformat_minor": 0
}
