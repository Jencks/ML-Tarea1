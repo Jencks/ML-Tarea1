{
 "cells": [
  {
   "cell_type": "markdown",
   "metadata": {},
   "source": [
    "<center><h1> Tarea 1 Machine Learning </h1></center>\n",
    "<center><h3> Matías Ramírez Marianetti | Javier Rodríguez Aguilera</h3></center>\n",
    "<center><h3> 201173506-4 | 201173553-6 </h3></center>\n",
    "<center><h3> matias.ramirezm@alumnos.usm.cl | javier.rodriguez@alumnos.usm.cl </h3></center>"
   ]
  },
  {
   "cell_type": "markdown",
   "metadata": {},
   "source": [
    "# Pregunta 1"
   ]
  },
  {
   "cell_type": "markdown",
   "metadata": {},
   "source": [
    "Se utilizará un pequeño dataset de nombre prostate-cancer el cual es usado con frecuencia para realizar pruebas priliminares de con métodos de regresión. Estos datos consisten en la eventual correlación entre el nivel de antígeno prostático específico medido de un paciente, y otra serie de otras mediciones clínicas obtenidas después de practicar al paciente una prostatectonía radical."
   ]
  },
  {
   "cell_type": "markdown",
   "metadata": {},
   "source": [
    "##  a)"
   ]
  },
  {
   "cell_type": "markdown",
   "metadata": {},
   "source": [
    "Para comenzar entre las lineas cinco(5) y nueve(9) de este algoritmo se elimina la columna que contiene el número de cada registro del dataset, de esta forma no se tendrá una variable innecesaria. Luego se toma la columna 'train' y a través de esta se generan dos arreglos, istrain e istest. En la línea de istrain se recorre la columna 'train' contenida en la variable istrain_str y se le coloca True a los datos en que 'train' sea 'T' y False en el caso contrario, de esta forma para el caso de istest se toma istrain y se invierten los valores booleanos de este. Finalmente se elimina la columna 'train', ya que sus valores serán utilizados a través de los arreglos anteriormente señalados.\n",
    "\n",
    "Finalmente, el dataset es el siguiente:"
   ]
  },
  {
   "cell_type": "code",
   "execution_count": 1,
   "metadata": {
    "collapsed": false,
    "scrolled": true
   },
   "outputs": [
    {
     "name": "stdout",
     "output_type": "stream",
     "text": [
      "      lcavol   lweight  age      lbph  svi       lcp  gleason  pgg45      lpsa\n",
      "0  -0.579818  2.769459   50 -1.386294    0 -1.386294        6      0 -0.430783\n",
      "1  -0.994252  3.319626   58 -1.386294    0 -1.386294        6      0 -0.162519\n",
      "2  -0.510826  2.691243   74 -1.386294    0 -1.386294        7     20 -0.162519\n",
      "3  -1.203973  3.282789   58 -1.386294    0 -1.386294        6      0 -0.162519\n",
      "4   0.751416  3.432373   62 -1.386294    0 -1.386294        6      0  0.371564\n",
      "5  -1.049822  3.228826   50 -1.386294    0 -1.386294        6      0  0.765468\n",
      "6   0.737164  3.473518   64  0.615186    0 -1.386294        6      0  0.765468\n",
      "7   0.693147  3.539509   58  1.536867    0 -1.386294        6      0  0.854415\n",
      "8  -0.776529  3.539509   47 -1.386294    0 -1.386294        6      0  1.047319\n",
      "9   0.223144  3.244544   63 -1.386294    0 -1.386294        6      0  1.047319\n",
      "10  0.254642  3.604138   65 -1.386294    0 -1.386294        6      0  1.266948\n",
      "11 -1.347074  3.598681   63  1.266948    0 -1.386294        6      0  1.266948\n",
      "12  1.613430  3.022861   63 -1.386294    0 -0.597837        7     30  1.266948\n",
      "13  1.477049  2.998229   67 -1.386294    0 -1.386294        7      5  1.348073\n",
      "14  1.205971  3.442019   57 -1.386294    0 -0.430783        7      5  1.398717\n",
      "15  1.541159  3.061052   66 -1.386294    0 -1.386294        6      0  1.446919\n",
      "16 -0.415515  3.516013   70  1.244155    0 -0.597837        7     30  1.470176\n",
      "17  2.288486  3.649359   66 -1.386294    0  0.371564        6      0  1.492904\n",
      "18 -0.562119  3.267666   41 -1.386294    0 -1.386294        6      0  1.558145\n",
      "19  0.182322  3.825375   70  1.658228    0 -1.386294        6      0  1.599388\n",
      "20  1.147402  3.419365   59 -1.386294    0 -1.386294        6      0  1.638997\n",
      "21  2.059239  3.501043   60  1.474763    0  1.348073        7     20  1.658228\n",
      "22 -0.544727  3.375880   59 -0.798508    0 -1.386294        6      0  1.695616\n",
      "23  1.781709  3.451574   63  0.438255    0  1.178655        7     60  1.713798\n",
      "24  0.385262  3.667400   69  1.599388    0 -1.386294        6      0  1.731656\n",
      "25  1.446919  3.124565   68  0.300105    0 -1.386294        6      0  1.766442\n",
      "26  0.512824  3.719651   65 -1.386294    0 -0.798508        7     70  1.800058\n",
      "27 -0.400478  3.865979   67  1.816452    0 -1.386294        7     20  1.816452\n",
      "28  1.040277  3.128951   67  0.223144    0  0.048790        7     80  1.848455\n",
      "29  2.409644  3.375880   65 -1.386294    0  1.619388        6      0  1.894617\n",
      "..       ...       ...  ...       ...  ...       ...      ...    ...       ...\n",
      "67  2.198335  4.050915   72  2.307573    0 -0.430783        7     10  2.962692\n",
      "68 -0.446287  4.408547   69 -1.386294    0 -1.386294        6      0  2.962692\n",
      "69  1.193922  4.780383   72  2.326302    0 -0.798508        7      5  2.972975\n",
      "70  1.864080  3.593194   60 -1.386294    1  1.321756        7     60  3.013081\n",
      "71  1.160021  3.341093   77  1.749200    0 -1.386294        7     25  3.037354\n",
      "72  1.214913  3.825375   69 -1.386294    1  0.223144        7     20  3.056357\n",
      "73  1.838961  3.236716   60  0.438255    1  1.178655        9     90  3.075006\n",
      "74  2.999226  3.849083   69 -1.386294    1  1.909542        7     20  3.275256\n",
      "75  3.141130  3.263849   68 -0.051293    1  2.420368        7     50  3.337547\n",
      "76  2.010895  4.433789   72  2.122262    0  0.500775        7     60  3.392829\n",
      "77  2.537657  4.354784   78  2.326302    0 -1.386294        7     10  3.435599\n",
      "78  2.648300  3.582129   69 -1.386294    1  2.583998        7     70  3.457893\n",
      "79  2.779440  3.823192   63 -1.386294    0  0.371564        7     50  3.513037\n",
      "80  1.467874  3.070376   66  0.559616    0  0.223144        7     40  3.516013\n",
      "81  2.513656  3.473518   57  0.438255    0  2.327278        7     60  3.530763\n",
      "82  2.613007  3.888754   77 -0.527633    1  0.559616        7     30  3.565298\n",
      "83  2.677591  3.838376   65  1.115142    0  1.749200        9     70  3.570940\n",
      "84  1.562346  3.709907   60  1.695616    0  0.810930        7     30  3.587677\n",
      "85  3.302849  3.518980   64 -1.386294    1  2.327278        7     60  3.630986\n",
      "86  2.024193  3.731699   58  1.638997    0 -1.386294        6      0  3.680091\n",
      "87  1.731656  3.369018   62 -1.386294    1  0.300105        7     30  3.712352\n",
      "88  2.807594  4.718052   65 -1.386294    1  2.463853        7     60  3.984344\n",
      "89  1.562346  3.695110   76  0.936093    1  0.810930        7     75  3.993603\n",
      "90  3.246491  4.101817   68 -1.386294    0 -1.386294        6      0  4.029806\n",
      "91  2.532903  3.677566   61  1.348073    1 -1.386294        7     15  4.129551\n",
      "92  2.830268  3.876396   68 -1.386294    1  1.321756        7     60  4.385147\n",
      "93  3.821004  3.896909   44 -1.386294    1  2.169054        7     40  4.684443\n",
      "94  2.907447  3.396185   52 -1.386294    1  2.463853        7     10  5.143124\n",
      "95  2.882564  3.773910   68  1.558145    1  1.558145        7     80  5.477509\n",
      "96  3.471966  3.974998   68  0.438255    1  2.904165        7     20  5.582932\n",
      "\n",
      "[97 rows x 9 columns]\n"
     ]
    }
   ],
   "source": [
    "import pandas as pd\n",
    "import numpy as np\n",
    "url = 'http://statweb.stanford.edu/~tibs/ElemStatLearn/datasets/prostate.data'\n",
    "df = pd.read_csv(url, sep='\\t', header=0)\n",
    "df = df.drop('Unnamed: 0', axis=1)\n",
    "istrain_str = df['train']\n",
    "istrain = np.asarray([True if s == 'T' else False for s in istrain_str])\n",
    "istest = np.logical_not(istrain)\n",
    "df = df.drop('train', axis=1)\n",
    "\n",
    "print df"
   ]
  },
  {
   "cell_type": "markdown",
   "metadata": {},
   "source": [
    "##  b)"
   ]
  },
  {
   "cell_type": "markdown",
   "metadata": {},
   "source": [
    "En total son 97 registros de los cuales 67 corresponden a datos de entrenamiento del modelo y 30 son para probar el modelo. las columnas del 1 al 8 son predictores, y la última corresponde a la etiqueta de cada registro.\n",
    "\n",
    "La tabla siguiente muestra la naturaleza y disribución de los datos."
   ]
  },
  {
   "cell_type": "code",
   "execution_count": 2,
   "metadata": {
    "collapsed": false
   },
   "outputs": [
    {
     "name": "stdout",
     "output_type": "stream",
     "text": [
      "<class 'pandas.core.frame.DataFrame'>\n",
      "RangeIndex: 97 entries, 0 to 96\n",
      "Data columns (total 9 columns):\n",
      "lcavol     97 non-null float64\n",
      "lweight    97 non-null float64\n",
      "age        97 non-null int64\n",
      "lbph       97 non-null float64\n",
      "svi        97 non-null int64\n",
      "lcp        97 non-null float64\n",
      "gleason    97 non-null int64\n",
      "pgg45      97 non-null int64\n",
      "lpsa       97 non-null float64\n",
      "dtypes: float64(5), int64(4)\n",
      "memory usage: 6.9 KB\n"
     ]
    },
    {
     "data": {
      "text/html": [
       "<div>\n",
       "<table border=\"1\" class=\"dataframe\">\n",
       "  <thead>\n",
       "    <tr style=\"text-align: right;\">\n",
       "      <th></th>\n",
       "      <th>lcavol</th>\n",
       "      <th>lweight</th>\n",
       "      <th>age</th>\n",
       "      <th>lbph</th>\n",
       "      <th>svi</th>\n",
       "      <th>lcp</th>\n",
       "      <th>gleason</th>\n",
       "      <th>pgg45</th>\n",
       "      <th>lpsa</th>\n",
       "    </tr>\n",
       "  </thead>\n",
       "  <tbody>\n",
       "    <tr>\n",
       "      <th>count</th>\n",
       "      <td>97.000000</td>\n",
       "      <td>97.000000</td>\n",
       "      <td>97.000000</td>\n",
       "      <td>97.000000</td>\n",
       "      <td>97.000000</td>\n",
       "      <td>97.000000</td>\n",
       "      <td>97.000000</td>\n",
       "      <td>97.000000</td>\n",
       "      <td>97.000000</td>\n",
       "    </tr>\n",
       "    <tr>\n",
       "      <th>mean</th>\n",
       "      <td>1.350010</td>\n",
       "      <td>3.628943</td>\n",
       "      <td>63.865979</td>\n",
       "      <td>0.100356</td>\n",
       "      <td>0.216495</td>\n",
       "      <td>-0.179366</td>\n",
       "      <td>6.752577</td>\n",
       "      <td>24.381443</td>\n",
       "      <td>2.478387</td>\n",
       "    </tr>\n",
       "    <tr>\n",
       "      <th>std</th>\n",
       "      <td>1.178625</td>\n",
       "      <td>0.428411</td>\n",
       "      <td>7.445117</td>\n",
       "      <td>1.450807</td>\n",
       "      <td>0.413995</td>\n",
       "      <td>1.398250</td>\n",
       "      <td>0.722134</td>\n",
       "      <td>28.204035</td>\n",
       "      <td>1.154329</td>\n",
       "    </tr>\n",
       "    <tr>\n",
       "      <th>min</th>\n",
       "      <td>-1.347074</td>\n",
       "      <td>2.374906</td>\n",
       "      <td>41.000000</td>\n",
       "      <td>-1.386294</td>\n",
       "      <td>0.000000</td>\n",
       "      <td>-1.386294</td>\n",
       "      <td>6.000000</td>\n",
       "      <td>0.000000</td>\n",
       "      <td>-0.430783</td>\n",
       "    </tr>\n",
       "    <tr>\n",
       "      <th>25%</th>\n",
       "      <td>0.512824</td>\n",
       "      <td>3.375880</td>\n",
       "      <td>60.000000</td>\n",
       "      <td>-1.386294</td>\n",
       "      <td>0.000000</td>\n",
       "      <td>-1.386294</td>\n",
       "      <td>6.000000</td>\n",
       "      <td>0.000000</td>\n",
       "      <td>1.731656</td>\n",
       "    </tr>\n",
       "    <tr>\n",
       "      <th>50%</th>\n",
       "      <td>1.446919</td>\n",
       "      <td>3.623007</td>\n",
       "      <td>65.000000</td>\n",
       "      <td>0.300105</td>\n",
       "      <td>0.000000</td>\n",
       "      <td>-0.798508</td>\n",
       "      <td>7.000000</td>\n",
       "      <td>15.000000</td>\n",
       "      <td>2.591516</td>\n",
       "    </tr>\n",
       "    <tr>\n",
       "      <th>75%</th>\n",
       "      <td>2.127041</td>\n",
       "      <td>3.876396</td>\n",
       "      <td>68.000000</td>\n",
       "      <td>1.558145</td>\n",
       "      <td>0.000000</td>\n",
       "      <td>1.178655</td>\n",
       "      <td>7.000000</td>\n",
       "      <td>40.000000</td>\n",
       "      <td>3.056357</td>\n",
       "    </tr>\n",
       "    <tr>\n",
       "      <th>max</th>\n",
       "      <td>3.821004</td>\n",
       "      <td>4.780383</td>\n",
       "      <td>79.000000</td>\n",
       "      <td>2.326302</td>\n",
       "      <td>1.000000</td>\n",
       "      <td>2.904165</td>\n",
       "      <td>9.000000</td>\n",
       "      <td>100.000000</td>\n",
       "      <td>5.582932</td>\n",
       "    </tr>\n",
       "  </tbody>\n",
       "</table>\n",
       "</div>"
      ],
      "text/plain": [
       "          lcavol    lweight        age       lbph        svi        lcp  \\\n",
       "count  97.000000  97.000000  97.000000  97.000000  97.000000  97.000000   \n",
       "mean    1.350010   3.628943  63.865979   0.100356   0.216495  -0.179366   \n",
       "std     1.178625   0.428411   7.445117   1.450807   0.413995   1.398250   \n",
       "min    -1.347074   2.374906  41.000000  -1.386294   0.000000  -1.386294   \n",
       "25%     0.512824   3.375880  60.000000  -1.386294   0.000000  -1.386294   \n",
       "50%     1.446919   3.623007  65.000000   0.300105   0.000000  -0.798508   \n",
       "75%     2.127041   3.876396  68.000000   1.558145   0.000000   1.178655   \n",
       "max     3.821004   4.780383  79.000000   2.326302   1.000000   2.904165   \n",
       "\n",
       "         gleason       pgg45       lpsa  \n",
       "count  97.000000   97.000000  97.000000  \n",
       "mean    6.752577   24.381443   2.478387  \n",
       "std     0.722134   28.204035   1.154329  \n",
       "min     6.000000    0.000000  -0.430783  \n",
       "25%     6.000000    0.000000   1.731656  \n",
       "50%     7.000000   15.000000   2.591516  \n",
       "75%     7.000000   40.000000   3.056357  \n",
       "max     9.000000  100.000000   5.582932  "
      ]
     },
     "execution_count": 2,
     "metadata": {},
     "output_type": "execute_result"
    }
   ],
   "source": [
    "df.shape\n",
    "df.info()\n",
    "df.describe()"
   ]
  },
  {
   "cell_type": "markdown",
   "metadata": {},
   "source": [
    "##  c)"
   ]
  },
  {
   "cell_type": "markdown",
   "metadata": {},
   "source": [
    "Antes de de poder crear el modelo y analizar los datos esnecesario normalizar los datos para arreglar las varianzas y de esta forma dejar los datos respecto a un mismo punto."
   ]
  },
  {
   "cell_type": "code",
   "execution_count": 3,
   "metadata": {
    "collapsed": true
   },
   "outputs": [],
   "source": [
    "from sklearn.preprocessing import StandardScaler\n",
    "scaler = StandardScaler()\n",
    "df_scaled = pd.DataFrame(scaler.fit_transform(df), columns=df.columns)\n",
    "df_scaled['lpsa'] = df['lpsa']"
   ]
  },
  {
   "cell_type": "markdown",
   "metadata": {},
   "source": [
    "##  d)"
   ]
  },
  {
   "cell_type": "markdown",
   "metadata": {},
   "source": [
    "Lo importante del tercer paso en este caso, es agregar una nueva columna que contiene solamente unos(1), los cuales denotan a $x^{(0)}$ y de esta forma definir un modelo lineal en forma matricial."
   ]
  },
  {
   "cell_type": "code",
   "execution_count": 4,
   "metadata": {
    "collapsed": false
   },
   "outputs": [
    {
     "data": {
      "text/plain": [
       "LinearRegression(copy_X=True, fit_intercept=False, n_jobs=1, normalize=False)"
      ]
     },
     "execution_count": 4,
     "metadata": {},
     "output_type": "execute_result"
    }
   ],
   "source": [
    "import sklearn.linear_model as lm\n",
    "X = df_scaled.ix[:,:-1]\n",
    "N = X.shape[0]\n",
    "X.insert(X.shape[1], 'intercept', np.ones(N))\n",
    "y = df_scaled['lpsa']\n",
    "Xtrain = X[istrain]\n",
    "ytrain = y[istrain]\n",
    "Xtest = X[np.logical_not(istrain)]\n",
    "ytest = y[np.logical_not(istrain)]\n",
    "linreg = lm.LinearRegression(fit_intercept = False)\n",
    "linreg.fit(Xtrain, ytrain)"
   ]
  },
  {
   "cell_type": "markdown",
   "metadata": {},
   "source": [
    "## e)"
   ]
  },
  {
   "cell_type": "markdown",
   "metadata": {},
   "source": [
    "Para lograr definir la variable más importante, se considera la que tiene el mayor peso $\\beta$. En el caso del valor del z-score, este estandarizará los valores y de esta forma los dejará a todos en un rango cercano, el $95\\%$ debería estar entre $-2$ y $2$ (desviaciones estándares del promedio) y así los valores del peso tendrán relevancia sin importar si en el dataset hay valores que tienen valores muy altos."
   ]
  },
  {
   "cell_type": "code",
   "execution_count": 5,
   "metadata": {
    "collapsed": false
   },
   "outputs": [
    {
     "name": "stdout",
     "output_type": "stream",
     "text": [
      "[ 0.67601634  0.26169361 -0.14073374  0.20906052  0.30362332 -0.28700184\n",
      " -0.02119493  0.26557614  2.46493292]\n"
     ]
    }
   ],
   "source": [
    "print linreg.coef_\n",
    "\n",
    "cols = list(Xtrain.columns)\n",
    "cols.remove(\"intercept\")\n",
    "\n",
    "Xtrain_zscores = pd.DataFrame()\n",
    "\n",
    "for col in cols:\n",
    "    col_zscore = col + '_zscore'\n",
    "    Xtrain_zscores[col_zscore] = (Xtrain[col] - Xtrain[col].mean())/Xtrain[col].std(ddof=0)\n",
    "    \n",
    "    \n",
    "#zscore_matrix = Xtrain_zscores.as_matrix().transpose().tolist()"
   ]
  },
  {
   "cell_type": "markdown",
   "metadata": {},
   "source": [
    "De los pesos obtenidos se puede notar que el que está asociado al primer predictor tiene el mayor peso, lo que muestra que esta variable es la que tiene más relevancia con la respuesta. De la misma manera, el predictor con menor relevancia en la respuesta en el número 7, gleason, ya que presenta el menor peso del modelo. Como criterio se podría tomar en consideración las variables con un peso absoluto igual o mayor a 0.25, lo que dejaría fuera los predictores age, lbph y gleason."
   ]
  },
  {
   "cell_type": "markdown",
   "metadata": {},
   "source": [
    "## f)"
   ]
  },
  {
   "cell_type": "markdown",
   "metadata": {},
   "source": [
    "En este caso se obtuvieron dos errores numéricos, los cuales luego de haber calculado su error porcentual promedio, $84.36\\%$ y $72.32\\%$ para $5$ y $10$ folds respectivamente, se puede decir que son bastante altos. A medida que se van aumentando los folds este error irá disminuyendo debido a que la cantidad de valores de entrenamiento aumentará por lo que el modelo tendrá un mayor volumen de datos para ajustarse correctamente.\n",
    "\n",
    "El error del modelo sobre el conjunto de prueba es $0.5$, con un error porcentual de $22\\%$. Este error de prueba es bastante mejor que los errores de entrenamiento. Lo que indica que el modelo presenta buenas predicciones en su primera etapa."
   ]
  },
  {
   "cell_type": "code",
   "execution_count": 6,
   "metadata": {
    "collapsed": false
   },
   "outputs": [
    {
     "name": "stdout",
     "output_type": "stream",
     "text": [
      "Error de prueba:\n",
      "mse: 0.521274005508\n",
      "E%: 23.2275472811\n",
      "\n",
      "Error de entrenmiento, fold k = 5:\n",
      "mse: 0.956514631616\n",
      "E%: 84.3625056948\n",
      "\n",
      "Error de entrenamiento, fold k = 10:\n",
      "mse: 0.757237472963\n",
      "E% 72.3234399351\n"
     ]
    }
   ],
   "source": [
    "yhat_test = linreg.predict(Xtest)\n",
    "mse_test = np.mean(np.power(yhat_test - ytest, 2))\n",
    "mse_test_p = np.mean(np.absolute((yhat_test - ytest)*(100/ytest)))\n",
    "from sklearn import cross_validation\n",
    "Xm = Xtrain.as_matrix()\n",
    "ym = ytrain.as_matrix()\n",
    "\n",
    "print \"Error de prueba:\"\n",
    "print \"mse:\", mse_test\n",
    "print \"E%:\", mse_test_p\n",
    "print\n",
    "\n",
    "K=5\n",
    "k_fold = cross_validation.KFold(len(Xm),K)\n",
    "mse_cv = 0\n",
    "mse_cv_p = 0\n",
    "for k, (train, val) in enumerate(k_fold):\n",
    "    linreg = lm.LinearRegression(fit_intercept = False)\n",
    "    linreg.fit(Xm[train], ym[train])\n",
    "    yhat_val = linreg.predict(Xm[val])\n",
    "    mse_fold = np.mean(np.power(yhat_val - ym[val], 2))\n",
    "    mse_fold_p = np.mean(np.absolute((yhat_val - ym[val])*(100/ym[val])))\n",
    "    mse_cv += mse_fold\n",
    "    mse_cv_p += mse_fold_p\n",
    "mse_cv = mse_cv / K\n",
    "mse_cv_p = mse_cv_p / K\n",
    "\n",
    "print \"Error de entrenmiento, fold k = 5:\"\n",
    "print \"mse:\",mse_cv\n",
    "print \"E%:\",mse_cv_p\n",
    "print\n",
    "\n",
    "K=10\n",
    "k_fold = cross_validation.KFold(len(Xm),K)\n",
    "mse_cv = 0\n",
    "mse_cv_p = 0\n",
    "for k, (train, val) in enumerate(k_fold):\n",
    "    linreg = lm.LinearRegression(fit_intercept = False)\n",
    "    linreg.fit(Xm[train], ym[train])\n",
    "    yhat_val = linreg.predict(Xm[val])\n",
    "    mse_fold = np.mean(np.power(yhat_val - ym[val], 2))\n",
    "    mse_fold_p = np.mean(np.absolute((yhat_val - ym[val])*(100/ym[val])))\n",
    "    mse_cv += mse_fold\n",
    "    mse_cv_p += mse_fold_p\n",
    "mse_cv = mse_cv / K\n",
    "mse_cv_p = mse_cv_p / K\n",
    "\n",
    "print \"Error de entrenamiento, fold k = 10:\"\n",
    "print \"mse:\", mse_cv\n",
    "print \"E%\", mse_cv_p"
   ]
  },
  {
   "cell_type": "markdown",
   "metadata": {},
   "source": [
    "## g)"
   ]
  },
  {
   "cell_type": "markdown",
   "metadata": {},
   "source": [
    "Se procede a generar un gráfico Q-Q para corroborar la hipótesis de normlidd de los errores del modelo."
   ]
  },
  {
   "cell_type": "code",
   "execution_count": 7,
   "metadata": {
    "collapsed": false
   },
   "outputs": [
    {
     "data": {
      "image/png": "[encoded data removed]",
      "text/plain": [
       "<matplotlib.figure.Figure at 0xc730b70>"
      ]
     },
     "metadata": {},
     "output_type": "display_data"
    }
   ],
   "source": [
    "%matplotlib inline\n",
    "\n",
    "import statsmodels.api as sm\n",
    "import pylab\n",
    "\n",
    "yhat_train = linreg.predict(Xtrain)\n",
    "mse_train = np.power(yhat_train - ytrain, 2)\n",
    "\n",
    "sm.qqplot(mse_train, line='r')\n",
    "\n",
    "pylab.show()"
   ]
  },
  {
   "cell_type": "markdown",
   "metadata": {},
   "source": [
    "Se rechaza la hipótesis debido a que se presenta una asimetría a la izquierda sobre la linealidad de los datos del gráfico."
   ]
  },
  {
   "cell_type": "markdown",
   "metadata": {},
   "source": [
    "# Pregunta 2"
   ]
  },
  {
   "cell_type": "markdown",
   "metadata": {},
   "source": [
    "## a)"
   ]
  },
  {
   "cell_type": "markdown",
   "metadata": {},
   "source": [
    "El criterio utilizado fue elegir la variable incorporada con menor error asociado. Este error es calculado mediante cross-validation con k=15."
   ]
  },
  {
   "cell_type": "code",
   "execution_count": 16,
   "metadata": {
    "collapsed": false
   },
   "outputs": [],
   "source": [
    "errorfss = []\n",
    "cantidadfss = []\n",
    "\n",
    "def fss(x, y, names_x, k = 10000):\n",
    "    p = x.shape[1]-1\n",
    "    k = min(p, k)\n",
    "    names_x = np.array(names_x)\n",
    "    remaining = range(0, p)\n",
    "    selected = [p]\n",
    "    current_score = 0.0\n",
    "    best_new_score = 0.0\n",
    "    while remaining and len(selected)<=k :\n",
    "        score_candidates = []\n",
    "        for candidate in remaining:\n",
    "            model = lm.LinearRegression(fit_intercept=False)\n",
    "            indexes = selected + [candidate]\n",
    "            x_train = x[:,indexes]\n",
    "            #predictions_train = model.fit(x_train, y).predict(x_train)\n",
    "            #residuals_train = predictions_train - y            \n",
    "            k_fold = cross_validation.KFold(len(x_train),15)\n",
    "            mse_candidate = 0\n",
    "            for j, (train, val) in enumerate(k_fold):\n",
    "                linreg = lm.LinearRegression(fit_intercept = False)\n",
    "                linreg.fit(x_train[train], y[train])\n",
    "                yhat_val = linreg.predict(x_train[val])\n",
    "                mse_fold = np.mean(np.power(yhat_val - y[val], 2))\n",
    "                mse_candidate += mse_fold\n",
    "            mse_candidate = mse_candidate/15\n",
    "            #mse_candidate = np.mean(np.power(residuals_train, 2))\n",
    "            score_candidates.append((mse_candidate, candidate))\n",
    "            \n",
    "            \n",
    "        cantidadfss.append(len(selected))           \n",
    "        score_candidates.sort()\n",
    "        score_candidates[:] = score_candidates[::-1]\n",
    "        best_new_score, best_candidate = score_candidates.pop()\n",
    "        remaining.remove(best_candidate)\n",
    "        selected.append(best_candidate)\n",
    "        errorfss.append(best_new_score)\n",
    "        \n",
    "        print \"selected = %s ...\"%names_x[best_candidate]\n",
    "        print \"totalvars=%d, mse = %f\"%(len(indexes)-1,best_new_score)\n",
    "    return selected"
   ]
  },
  {
   "cell_type": "markdown",
   "metadata": {},
   "source": [
    "Nuestro criterio de selección e variable dejo fuera a 'Gleason' ya que encuentra un menor local en los errores justo antes de incorporar dicha variable. Lo anterior tiene sentido ya que se corrobora a través de los pesos $\\beta$, donde el asociado a esta variable es el menor."
   ]
  },
  {
   "cell_type": "code",
   "execution_count": 17,
   "metadata": {
    "collapsed": false
   },
   "outputs": [
    {
     "name": "stdout",
     "output_type": "stream",
     "text": [
      "selected = lcavol ...\n",
      "totalvars=1, mse = 0.793672\n",
      "selected = lweight ...\n",
      "totalvars=2, mse = 0.684954\n",
      "selected = pgg45 ...\n",
      "totalvars=3, mse = 0.680069\n",
      "selected = lcp ...\n",
      "totalvars=4, mse = 0.679653\n",
      "selected = age ...\n",
      "totalvars=5, mse = 0.672212\n",
      "selected = svi ...\n",
      "totalvars=6, mse = 0.668243\n",
      "selected = lbph ...\n",
      "totalvars=7, mse = 0.639396\n",
      "selected = gleason ...\n",
      "totalvars=8, mse = 0.675566\n",
      "[8L, 0, 1, 7, 5, 2, 4, 3, 6]\n"
     ]
    }
   ],
   "source": [
    "names_regressors = [\"lcavol\", \"lweight\", \"age\", \"lbph\", \"svi\", \"lcp\", \"gleason\", \"pgg45\"]\n",
    "indices_secuencia_fss = fss(Xm,ym,names_regressors)\n",
    "print indices_secuencia_fss"
   ]
  },
  {
   "cell_type": "code",
   "execution_count": 20,
   "metadata": {
    "collapsed": false
   },
   "outputs": [
    {
     "data": {
      "image/png": "[encoded data removed]",
      "text/plain": [
       "<matplotlib.figure.Figure at 0xc9e6d68>"
      ]
     },
     "metadata": {},
     "output_type": "display_data"
    }
   ],
   "source": [
    "%matplotlib inline\n",
    "\n",
    "secuencia_fss = []\n",
    "\n",
    "for i in indices_secuencia_fss[1:]:\n",
    "    secuencia_fss.append(names_regressors[i])\n",
    "\n",
    "errortest = []\n",
    "cantidadvariables = []\n",
    "\n",
    "\n",
    "X0_train = pd.DataFrame()\n",
    "X0_train['lcavol'] = Xtrain['lcavol']\n",
    "Ntrain = X0_train.shape[0]\n",
    "\n",
    "X0_test = pd.DataFrame()\n",
    "X0_test['lcavol'] = Xtest['lcavol']\n",
    "Ntest = X0_test.shape[0]\n",
    "\n",
    "X0_train.insert(X0_train.shape[1], 'intercept', np.ones(Ntrain))\n",
    "X0_test.insert(X0_test.shape[1], 'intercept', np.ones(Ntest))\n",
    "\n",
    "linreg = lm.LinearRegression(fit_intercept = False)\n",
    "linreg.fit(X0_train, ytrain)\n",
    "\n",
    "yhat_test = linreg.predict(X0_test)\n",
    "mse_test = np.mean(np.power(yhat_test - ytest, 2))\n",
    "errortest.append(mse_test)\n",
    "cantidadvariables.append(1)\n",
    "\n",
    "for k in range(1,8):\n",
    "    X0_train.insert(X0_train.shape[1], secuencia_fss[k], Xtrain[secuencia_fss[k]])\n",
    "    X0_test.insert(X0_test.shape[1], secuencia_fss[k], Xtest[secuencia_fss[k]])\n",
    "    #print X0_train\n",
    "    linreg = lm.LinearRegression(fit_intercept = False)\n",
    "    linreg.fit(X0_train, ytrain)\n",
    "    \n",
    "    yhat_test = linreg.predict(X0_test)\n",
    "    mse_test = np.mean(np.power(yhat_test - ytest, 2))\n",
    "    errortest.append(mse_test)\n",
    "    cantidadvariables.append(k+1)\n",
    "        \n",
    "import matplotlib\n",
    "import matplotlib.pyplot as plt\n",
    "\n",
    "axes = plt.gca()\n",
    "plt.plot(cantidadvariables, errortest, color='blue', linewidth=3, label = \"test set\")\n",
    "plt.plot(cantidadfss, errorfss , color='red', linewidth=3, label = \"train set\")\n",
    "axes.set_ylim([0.3,0.8])\n",
    "plt.title('Error versus numero de variables ')\n",
    "plt.legend()\n",
    "plt.xlabel('Numero de variables')\n",
    "plt.ylabel('Error MSE')\n",
    "plt.show()"
   ]
  },
  {
   "cell_type": "markdown",
   "metadata": {},
   "source": [
    "Del gráfico de puede ver que la cantidad de variables asociada al menor error para el caso del entrenamiento y de prueba son bien similares, siendo 7 y 6 respectivamente.\n",
    "\n",
    "para el caso del error de entrenamiento, las variables óptimas a considerar son todas menos la 3, y para el caso de el error de prueba, se dejan fuera las variables 3 y 6. Lo anterior tiene sentido ya que estas dos variables son las que tienen menor peso asociado y por lo tanto menor relación con la respuesta del modelo."
   ]
  },
  {
   "cell_type": "markdown",
   "metadata": {},
   "source": [
    "## b) "
   ]
  },
  {
   "cell_type": "markdown",
   "metadata": {},
   "source": [
    "Se desea realizar análisis similar al anterior, donde esta vez se irá eliminando variables del modelo una por una para determianr un escenario óptimo."
   ]
  },
  {
   "cell_type": "code",
   "execution_count": 32,
   "metadata": {
    "collapsed": true
   },
   "outputs": [],
   "source": [
    "erroresbss = []\n",
    "\n",
    "def bss(x, y, names_x, k = 10000):\n",
    "    p = x.shape[1]\n",
    "    k = min(p, k)\n",
    "    names_x = np.array(names_x)\n",
    "    remaining = range(0, p)\n",
    "    selected = []\n",
    "    current_score = 0.0\n",
    "    best_new_score = 0.0\n",
    "    while len(remaining)>2 :\n",
    "        score_candidates = []\n",
    "        for candidate in remaining:\n",
    "            model = lm.LinearRegression(fit_intercept=False)\n",
    "            indexes = remaining[:]\n",
    "            indexes.remove(candidate)\n",
    "            x_train = x[:,indexes]\n",
    "            predictions_train = model.fit(x_train, y).predict(x_train)\n",
    "            residuals_train = predictions_train - y\n",
    "            mse_candidate = np.mean(np.power(residuals_train, 2))\n",
    "            score_candidates.append((mse_candidate, candidate))\n",
    "        score_candidates.sort()\n",
    "        score_candidates[:] = score_candidates[::-1]\n",
    "        best_new_score, best_candidate = score_candidates.pop()\n",
    "        erroresbss.append(best_new_score)\n",
    "        remaining.remove(best_candidate)\n",
    "        selected.append(best_candidate)\n",
    "        print \"removed = %s ...\"%names_x[best_candidate]\n",
    "        print \"totalvars = %d, mse = %f\"%(len(indexes)-1,best_new_score)\n",
    "    \n",
    "    return selected"
   ]
  },
  {
   "cell_type": "code",
   "execution_count": 33,
   "metadata": {
    "collapsed": false
   },
   "outputs": [
    {
     "name": "stdout",
     "output_type": "stream",
     "text": [
      "removed = gleason ...\n",
      "totalvars = 7, mse = 0.439363\n",
      "removed = age ...\n",
      "totalvars = 6, mse = 0.455818\n",
      "removed = lcp ...\n",
      "totalvars = 5, mse = 0.478648\n",
      "removed = pgg45 ...\n",
      "totalvars = 4, mse = 0.489776\n",
      "removed = lbph ...\n",
      "totalvars = 3, mse = 0.521011\n",
      "removed = svi ...\n",
      "totalvars = 2, mse = 0.553610\n",
      "removed = lweight ...\n",
      "totalvars = 1, mse = 0.664606\n",
      "[6, 2, 5, 7, 3, 4, 1]\n"
     ]
    }
   ],
   "source": [
    "indices_secuencia_bss = bss(Xm,ym,names_regressors)\n",
    "print indices_secuencia_bss"
   ]
  },
  {
   "cell_type": "code",
   "execution_count": 38,
   "metadata": {
    "collapsed": false
   },
   "outputs": [
    {
     "data": {
      "image/png": "[encoded data removed]",
      "text/plain": [
       "<matplotlib.figure.Figure at 0xd126940>"
      ]
     },
     "metadata": {},
     "output_type": "display_data"
    }
   ],
   "source": [
    "%matplotlib inline\n",
    "\n",
    "secuencia_bss = []\n",
    "\n",
    "#for i in indices_secuencia_bss[1:]:\n",
    " #   secuencia_bss.append(names_regressors[i])\n",
    "\n",
    "\n",
    "secuencia_fss = []\n",
    "\n",
    "#for i in indices_secuencia_fss[1:]:\n",
    "#    secuencia_fss.append(names_regressors[i])\n",
    "\n",
    "errortest = []\n",
    "cantidadvariables = []\n",
    "\n",
    "\n",
    "XBSS_train = pd.DataFrame()\n",
    "XBSS_train = Xtrain\n",
    "Ntrain = XBSS_train.shape[0]\n",
    "#XBSS_train.insert(XBSS_train.shape[1], 'intercept', np.ones(Ntrain))\n",
    "\n",
    "XBSS_test = pd.DataFrame()\n",
    "XBSS_test = Xtest\n",
    "Ntest = XBSS_test.shape[0]\n",
    "#XBSS_test.insert(XBSS_test.shape[1], 'intercept', np.ones(Ntest))\n",
    "\n",
    "linreg = lm.LinearRegression(fit_intercept = False)\n",
    "linreg.fit(XBSS_train, ytrain)\n",
    "\n",
    "yhat_test = linreg.predict(XBSS_test)\n",
    "mse_test = np.mean(np.power(yhat_test - ytest, 2))\n",
    "errortest.append(mse_test)\n",
    "\n",
    "\n",
    "for k in range(len(indices_secuencia_bss)):\n",
    "    n = indices_secuencia_bss[k-1]\n",
    "    XBSS_train = XBSS_train.drop(names_regressors[n], axis=1)\n",
    "    XBSS_test = XBSS_test.drop(names_regressors[n], axis=1)\n",
    "   \n",
    "    linreg = lm.LinearRegression(fit_intercept = False)\n",
    "    linreg.fit(XBSS_train, ytrain)\n",
    "    \n",
    "    yhat_test = linreg.predict(XBSS_test)\n",
    "    mse_test = np.mean(np.power(yhat_test - ytest, 2))\n",
    "    errortest.append(mse_test)\n",
    "    \n",
    "    \n",
    "\n",
    "import matplotlib\n",
    "import matplotlib.pyplot as plt\n",
    "\n",
    "axes = plt.gca()\n",
    "plt.plot([8,7,6,5,4,3,2,1], errortest, color='blue', linewidth=3, label = \"test set\")\n",
    "plt.plot([7,6,5,4,3,2,1], erroresbss , color='red', linewidth=3, label = \"train set\")\n",
    "axes.set_ylim([0.3,0.8])\n",
    "plt.title('Error versus numero de variables ')\n",
    "plt.legend()\n",
    "plt.xlabel('Numero de variables')\n",
    "plt.ylabel('Error MSE')\n",
    "plt.show()"
   ]
  },
  {
   "cell_type": "markdown",
   "metadata": {},
   "source": [
    "El error de entrenamiento va aumentando a medida que dismiuye la cantidad de variables para entrenar el modelo, esto ya que entre más variables ocupa el modelo, mejor será la predicción para los mismos registros con los que se entrenó, debido al sobre ajuste que se genera.\n",
    "\n",
    "Por otra parte, los datos de prueba muestran que con las variables 1 y 8 se logra obtener el modelo con el menor error local posible, lo cual es coherente con los pesos asociados a estas variables, que tienen harta correlación con la respuesta respecto a las demás variables."
   ]
  },
  {
   "cell_type": "markdown",
   "metadata": {},
   "source": [
    "# Pregunta 3"
   ]
  },
  {
   "cell_type": "markdown",
   "metadata": {},
   "source": [
    "## a)"
   ]
  },
  {
   "cell_type": "markdown",
   "metadata": {},
   "source": [
    "La Ridge Regression penalizará sus coeficientes, de tal manera que los que son menos eficientes en la estimación se achicarán de forma más rápida. Es como que se tenga un presupuesto asignado y cada coeficiente puede sacar un poco y usarlo para participar en la estimación. Los que sean más importantes tomarán una mayor cantidad. A medida que se aumenta el alpha, se está disminuyendo este presupuesto, en otras palabras, penalizando más. En el gráfico, cada línea representa un coeficiente al cual su valor va reduciéndose a cero a medida que se acorta el presupuesto o se penaliza más(se achica alpha). Si uno quisiese escojer el mejor alpha se debería consultar a un gráfico MSE vs alpha, aunque se podría decir que mientras más rápido se achique un coeficiente, menos importante es en la predicción.\n"
   ]
  },
  {
   "cell_type": "code",
   "execution_count": 40,
   "metadata": {
    "collapsed": false
   },
   "outputs": [
    {
     "name": "stdout",
     "output_type": "stream",
     "text": [
      "(50L,)\n",
      "(50L,)\n",
      "(50L,)\n",
      "(50L,)\n",
      "(50L,)\n",
      "(50L,)\n",
      "(50L,)\n",
      "(50L,)\n",
      "(50L,)\n",
      "(50L,)\n",
      "(50L,)\n",
      "(50L,)\n",
      "(50L,)\n",
      "(50L,)\n",
      "(50L,)\n",
      "(50L,)\n"
     ]
    },
    {
     "data": {
      "image/png": "[encoded data removed]",
      "text/plain": [
       "<matplotlib.figure.Figure at 0xcd40f60>"
      ]
     },
     "metadata": {},
     "output_type": "display_data"
    }
   ],
   "source": [
    "from sklearn.linear_model import Ridge\n",
    "import matplotlib.pylab as plt\n",
    "\n",
    "#if (X['intercept']):\n",
    " #   X = X.drop('intercept', axis=1)\n",
    "\n",
    "Xtrain = X[istrain]\n",
    "ytrain = y[istrain]\n",
    "names_regressors = [\"Lcavol\", \"Lweight\", \"Age\", \"Lbph\", \"Svi\", \"Lcp\", \"Gleason\", \"Pgg45\"]\n",
    "alphas_ = np.logspace(4,-1,base=10)\n",
    "coefs = []\n",
    "model = Ridge(fit_intercept=True,solver='svd')\n",
    "for a in alphas_:\n",
    "    model.set_params(alpha=a)\n",
    "    model.fit(Xtrain, ytrain)\n",
    "    coefs.append(model.coef_)\n",
    "ax = plt.gca()\n",
    "for y_arr, label in zip(np.squeeze(coefs).T, names_regressors):\n",
    "    print alphas_.shape\n",
    "    print y_arr.shape\n",
    "    plt.plot(alphas_, y_arr, label=label)\n",
    "plt.legend()\n",
    "ax.set_xscale('log')\n",
    "ax.set_xlim(ax.get_xlim()[::-1]) # reverse axis\n",
    "plt.xlabel('alpha')\n",
    "plt.ylabel('weights')\n",
    "plt.title('Regularization Path RIDGE')\n",
    "plt.axis('tight')\n",
    "plt.legend(loc=2)\n",
    "plt.show()"
   ]
  },
  {
   "cell_type": "markdown",
   "metadata": {},
   "source": [
    "## b)"
   ]
  },
  {
   "cell_type": "markdown",
   "metadata": {},
   "source": [
    "Lasso aplica un termino de penalización a la minimización. Cuando alpha es $0$, no hay penalización y se tiene la solución OLS, esto es máximo $\\beta$. Mientras la penalización aumenta, $\\beta$ es llevado a $0$, con los parámetros menos importantes llevados más rapidamente. En algún punto de alpha, todos los pesos $\\beta$ llegan a $0$."
   ]
  },
  {
   "cell_type": "code",
   "execution_count": 41,
   "metadata": {
    "collapsed": false
   },
   "outputs": [
    {
     "name": "stdout",
     "output_type": "stream",
     "text": [
      "(50L,)\n",
      "(50L,)\n",
      "(50L,)\n",
      "(50L,)\n",
      "(50L,)\n",
      "(50L,)\n",
      "(50L,)\n",
      "(50L,)\n",
      "(50L,)\n",
      "(50L,)\n",
      "(50L,)\n",
      "(50L,)\n",
      "(50L,)\n",
      "(50L,)\n",
      "(50L,)\n",
      "(50L,)\n"
     ]
    },
    {
     "data": {
      "image/png": "[encoded data removed]",
      "text/plain": [
       "<matplotlib.figure.Figure at 0xd0d5940>"
      ]
     },
     "metadata": {},
     "output_type": "display_data"
    }
   ],
   "source": [
    "from sklearn.linear_model import Lasso\n",
    "\n",
    "#X = X.drop('intercept', axis=1)\n",
    "Xtrain = X[istrain]\n",
    "ytrain = y[istrain]\n",
    "names_regressors = [\"Lcavol\", \"Lweight\", \"Age\", \"Lbph\", \"Svi\", \"Lcp\", \"Gleason\", \"Pgg45\"]\n",
    "alphas_ = np.logspace(1,-2,base=10)\n",
    "coefs = []\n",
    "clf = Lasso(fit_intercept=True)\n",
    "for a in alphas_:\n",
    "    clf.set_params(alpha=a)\n",
    "    clf.fit(Xtrain, ytrain)\n",
    "    coefs.append(clf.coef_)\n",
    "ax = plt.gca()\n",
    "for y_arr, label in zip(np.squeeze(coefs).T, names_regressors):\n",
    "    print alphas_.shape\n",
    "    print y_arr.shape\n",
    "    plt.plot(alphas_, y_arr, label=label)\n",
    "plt.legend()\n",
    "ax.set_xscale('log')\n",
    "ax.set_xlim(ax.get_xlim()[::-1]) # reverse axis\n",
    "plt.xlabel('alpha')\n",
    "plt.ylabel('weights')\n",
    "plt.title('Regularization Path RIDGE')\n",
    "plt.axis('tight')\n",
    "plt.legend(loc=2)\n",
    "plt.show()"
   ]
  },
  {
   "cell_type": "markdown",
   "metadata": {},
   "source": [
    "## c)"
   ]
  },
  {
   "cell_type": "code",
   "execution_count": 42,
   "metadata": {
    "collapsed": false
   },
   "outputs": [
    {
     "data": {
      "image/png": "[encoded data removed]",
      "text/plain": [
       "<matplotlib.figure.Figure at 0xcd49f98>"
      ]
     },
     "metadata": {},
     "output_type": "display_data"
    }
   ],
   "source": [
    "Xtest = X[np.logical_not(istrain)]\n",
    "ytest = y[np.logical_not(istrain)]\n",
    "alphas_ = np.logspace(2,-2,base=10)\n",
    "coefs = []\n",
    "model = Ridge(fit_intercept=True)\n",
    "mse_test = []\n",
    "mse_train = []\n",
    "for a in alphas_:\n",
    "    model.set_params(alpha=a)\n",
    "    model.fit(Xtrain, ytrain)\n",
    "    yhat_train = model.predict(Xtrain)\n",
    "    yhat_test = model.predict(Xtest)\n",
    "    mse_train.append(np.mean(np.power(yhat_train - ytrain, 2)))\n",
    "    mse_test.append(np.mean(np.power(yhat_test - ytest, 2)))\n",
    "ax = plt.gca()\n",
    "ax.plot(alphas_,mse_train,label='train error ridge')\n",
    "ax.plot(alphas_,mse_test,label='test error ridge')\n",
    "plt.legend(loc=2)\n",
    "ax.set_xscale('log')\n",
    "ax.set_xlim(ax.get_xlim()[::-1])\n",
    "plt.show()"
   ]
  },
  {
   "cell_type": "markdown",
   "metadata": {},
   "source": [
    "A partir del punto de intersección de las curvas del gráfico hacia adelante (alpha más pequeño), se puede apreciar un sobre ajuste del modelo ya que el error de entrenamiento es menor que el de prueba.\n",
    "\n",
    "Por otro lado, con alphas altos como en la primera parte del gráfico (de la intersección hacia atrás) se nota que con una mayor penalización significa tener pesos más grandes, lo que significa tener coeficientes más grandes y así evitar el sobre ajuste del modelo y obtener errores más pequeños."
   ]
  },
  {
   "cell_type": "markdown",
   "metadata": {},
   "source": [
    "## d)"
   ]
  },
  {
   "cell_type": "code",
   "execution_count": 51,
   "metadata": {
    "collapsed": false
   },
   "outputs": [
    {
     "data": {
      "image/png": "[encoded data removed]",
      "text/plain": [
       "<matplotlib.figure.Figure at 0xc96a748>"
      ]
     },
     "metadata": {},
     "output_type": "display_data"
    }
   ],
   "source": [
    "Xtest = X[np.logical_not(istrain)]\n",
    "ytest = y[np.logical_not(istrain)]\n",
    "alphas_ = np.logspace(0.5,2,base=10)\n",
    "coefs = []\n",
    "model = Lasso(fit_intercept=True)\n",
    "mse_test = []\n",
    "mse_train = []\n",
    "for a in alphas_:\n",
    "    model.set_params(alpha=a)\n",
    "    model.fit(Xtrain, ytrain)\n",
    "    yhat_train = model.predict(Xtrain)\n",
    "    yhat_test = model.predict(Xtest)\n",
    "    mse_train.append(np.mean(np.power(yhat_train - ytrain, 2)))\n",
    "    mse_test.append(np.mean(np.power(yhat_test - ytest, 2)))\n",
    "ax = plt.gca()\n",
    "ax.plot(alphas_,mse_train,label='train error ridge')\n",
    "ax.plot(alphas_,mse_test,label='test error ridge')\n",
    "plt.legend(loc=2)\n",
    "ax.set_xscale('log')\n",
    "ax.set_xlim(ax.get_xlim()[::-1])\n",
    "plt.show()"
   ]
  },
  {
   "cell_type": "markdown",
   "metadata": {},
   "source": []
  },
  {
   "cell_type": "markdown",
   "metadata": {},
   "source": [
    "## e)"
   ]
  },
  {
   "cell_type": "code",
   "execution_count": 50,
   "metadata": {
    "collapsed": false
   },
   "outputs": [
    {
     "name": "stdout",
     "output_type": "stream",
     "text": [
      "BEST PARAMETER=3.162278, MSE(CV)=1.795596\n"
     ]
    }
   ],
   "source": [
    "def MSE(y,yhat): return np.mean(np.power(y-yhat,2))\n",
    "Xm = Xtrain.as_matrix()\n",
    "ym = ytrain.as_matrix()\n",
    "k_fold = cross_validation.KFold(len(Xm),10)\n",
    "best_cv_mse = float(\"inf\")\n",
    "model = Lasso(fit_intercept=True)\n",
    "for a in alphas_:\n",
    "    model.set_params(alpha=a)\n",
    "    mse_list_k10 = [MSE(model.fit(Xm[train], ym[train]).predict(Xm[val]), ym[val]) \\\n",
    "                    for train, val in k_fold]\n",
    "    if np.mean(mse_list_k10) < best_cv_mse:\n",
    "        best_cv_mse = np.mean(mse_list_k10)\n",
    "        best_alpha = a\n",
    "        print \"BEST PARAMETER=%f, MSE(CV)=%f\"%(best_alpha,best_cv_mse)"
   ]
  },
  {
   "cell_type": "code",
   "execution_count": null,
   "metadata": {
    "collapsed": true
   },
   "outputs": [],
   "source": []
  }
 ],
 "metadata": {
  "anaconda-cloud": {},
  "kernelspec": {
   "display_name": "Python [Root]",
   "language": "python",
   "name": "Python [Root]"
  },
  "language_info": {
   "codemirror_mode": {
    "name": "ipython",
    "version": 2
   },
   "file_extension": ".py",
   "mimetype": "text/x-python",
   "name": "python",
   "nbconvert_exporter": "python",
   "pygments_lexer": "ipython2",
   "version": "2.7.12"
  }
 },
 "nbformat": 4,
 "nbformat_minor": 0
}
