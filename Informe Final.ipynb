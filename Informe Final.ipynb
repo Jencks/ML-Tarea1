{
 "cells": [
  {
   "cell_type": "markdown",
   "metadata": {},
   "source": [
    "<center><h1> Tarea 1 Machine Learning </h1></center>\n",
    "<center><h3> Matías Ramírez Marianetti | Javier Rodríguez Aguilera</h3></center>\n",
    "<center><h3> 201173506-4 | 201173553-6 </h3></center>\n",
    "<center><h3> matias.ramirezm@alumnos.usm.cl | javier.rodriguez@alumnos.usm.cl </h3></center>"
   ]
  },
  {
   "cell_type": "markdown",
   "metadata": {},
   "source": [
    "# Pregunta 1"
   ]
  },
  {
   "cell_type": "markdown",
   "metadata": {},
   "source": [
    "Se utilizará un pequeño dataset de nombre prostate-cancer el cual es usado con frecuencia para realizar pruebas priliminares de con métodos de regresión. Estos datos consisten en la eventual correlación entre el nivel de antígeno prostático específico medido de un paciente, y otra serie de otras mediciones clínicas obtenidas después de practicar al paciente una prostatectonía radical."
   ]
  },
  {
   "cell_type": "markdown",
   "metadata": {},
   "source": [
    "##  a)"
   ]
  },
  {
   "cell_type": "markdown",
   "metadata": {},
   "source": [
    "Para comenzar entre las lineas cinco(5) y nueve(9) de este algoritmo se elimina la columna que contiene el número de cada registro del dataset, de esta forma no se tendrá una variable innecesaria. Luego se toma la columna 'train' y a través de esta se generan dos arreglos, istrain e istest. En la línea de istrain se recorre la columna 'train' contenida en la variable istrain_str y se le coloca True a los datos en que 'train' sea 'T' y False en el caso contrario, de esta forma para el caso de istest se toma istrain y se invierten los valores booleanos de este. Finalmente se elimina la columna 'train', ya que sus valores serán utilizados a través de los arreglos anteriormente señalados."
   ]
  },
  {
   "cell_type": "code",
   "execution_count": 21,
   "metadata": {
    "collapsed": true
   },
   "outputs": [],
   "source": [
    "import pandas as pd\n",
    "import numpy as np\n",
    "url = 'http://statweb.stanford.edu/~tibs/ElemStatLearn/datasets/prostate.data'\n",
    "df = pd.read_csv(url, sep='\\t', header=0)\n",
    "df = df.drop('Unnamed: 0', axis=1)\n",
    "istrain_str = df['train']\n",
    "istrain = np.asarray([True if s == 'T' else False for s in istrain_str])\n",
    "istest = np.logical_not(istrain)\n",
    "df = df.drop('train', axis=1)\n",
    "\n",
    "#print df"
   ]
  },
  {
   "cell_type": "markdown",
   "metadata": {},
   "source": [
    "##  b)"
   ]
  },
  {
   "cell_type": "code",
   "execution_count": 22,
   "metadata": {
    "collapsed": false
   },
   "outputs": [
    {
     "name": "stdout",
     "output_type": "stream",
     "text": [
      "<class 'pandas.core.frame.DataFrame'>\n",
      "RangeIndex: 97 entries, 0 to 96\n",
      "Data columns (total 9 columns):\n",
      "lcavol     97 non-null float64\n",
      "lweight    97 non-null float64\n",
      "age        97 non-null int64\n",
      "lbph       97 non-null float64\n",
      "svi        97 non-null int64\n",
      "lcp        97 non-null float64\n",
      "gleason    97 non-null int64\n",
      "pgg45      97 non-null int64\n",
      "lpsa       97 non-null float64\n",
      "dtypes: float64(5), int64(4)\n",
      "memory usage: 6.9 KB\n"
     ]
    },
    {
     "data": {
      "text/html": [
       "<div>\n",
       "<table border=\"1\" class=\"dataframe\">\n",
       "  <thead>\n",
       "    <tr style=\"text-align: right;\">\n",
       "      <th></th>\n",
       "      <th>lcavol</th>\n",
       "      <th>lweight</th>\n",
       "      <th>age</th>\n",
       "      <th>lbph</th>\n",
       "      <th>svi</th>\n",
       "      <th>lcp</th>\n",
       "      <th>gleason</th>\n",
       "      <th>pgg45</th>\n",
       "      <th>lpsa</th>\n",
       "    </tr>\n",
       "  </thead>\n",
       "  <tbody>\n",
       "    <tr>\n",
       "      <th>count</th>\n",
       "      <td>97.000000</td>\n",
       "      <td>97.000000</td>\n",
       "      <td>97.000000</td>\n",
       "      <td>97.000000</td>\n",
       "      <td>97.000000</td>\n",
       "      <td>97.000000</td>\n",
       "      <td>97.000000</td>\n",
       "      <td>97.000000</td>\n",
       "      <td>97.000000</td>\n",
       "    </tr>\n",
       "    <tr>\n",
       "      <th>mean</th>\n",
       "      <td>1.350010</td>\n",
       "      <td>3.628943</td>\n",
       "      <td>63.865979</td>\n",
       "      <td>0.100356</td>\n",
       "      <td>0.216495</td>\n",
       "      <td>-0.179366</td>\n",
       "      <td>6.752577</td>\n",
       "      <td>24.381443</td>\n",
       "      <td>2.478387</td>\n",
       "    </tr>\n",
       "    <tr>\n",
       "      <th>std</th>\n",
       "      <td>1.178625</td>\n",
       "      <td>0.428411</td>\n",
       "      <td>7.445117</td>\n",
       "      <td>1.450807</td>\n",
       "      <td>0.413995</td>\n",
       "      <td>1.398250</td>\n",
       "      <td>0.722134</td>\n",
       "      <td>28.204035</td>\n",
       "      <td>1.154329</td>\n",
       "    </tr>\n",
       "    <tr>\n",
       "      <th>min</th>\n",
       "      <td>-1.347074</td>\n",
       "      <td>2.374906</td>\n",
       "      <td>41.000000</td>\n",
       "      <td>-1.386294</td>\n",
       "      <td>0.000000</td>\n",
       "      <td>-1.386294</td>\n",
       "      <td>6.000000</td>\n",
       "      <td>0.000000</td>\n",
       "      <td>-0.430783</td>\n",
       "    </tr>\n",
       "    <tr>\n",
       "      <th>25%</th>\n",
       "      <td>0.512824</td>\n",
       "      <td>3.375880</td>\n",
       "      <td>60.000000</td>\n",
       "      <td>-1.386294</td>\n",
       "      <td>0.000000</td>\n",
       "      <td>-1.386294</td>\n",
       "      <td>6.000000</td>\n",
       "      <td>0.000000</td>\n",
       "      <td>1.731656</td>\n",
       "    </tr>\n",
       "    <tr>\n",
       "      <th>50%</th>\n",
       "      <td>1.446919</td>\n",
       "      <td>3.623007</td>\n",
       "      <td>65.000000</td>\n",
       "      <td>0.300105</td>\n",
       "      <td>0.000000</td>\n",
       "      <td>-0.798508</td>\n",
       "      <td>7.000000</td>\n",
       "      <td>15.000000</td>\n",
       "      <td>2.591516</td>\n",
       "    </tr>\n",
       "    <tr>\n",
       "      <th>75%</th>\n",
       "      <td>2.127041</td>\n",
       "      <td>3.876396</td>\n",
       "      <td>68.000000</td>\n",
       "      <td>1.558145</td>\n",
       "      <td>0.000000</td>\n",
       "      <td>1.178655</td>\n",
       "      <td>7.000000</td>\n",
       "      <td>40.000000</td>\n",
       "      <td>3.056357</td>\n",
       "    </tr>\n",
       "    <tr>\n",
       "      <th>max</th>\n",
       "      <td>3.821004</td>\n",
       "      <td>4.780383</td>\n",
       "      <td>79.000000</td>\n",
       "      <td>2.326302</td>\n",
       "      <td>1.000000</td>\n",
       "      <td>2.904165</td>\n",
       "      <td>9.000000</td>\n",
       "      <td>100.000000</td>\n",
       "      <td>5.582932</td>\n",
       "    </tr>\n",
       "  </tbody>\n",
       "</table>\n",
       "</div>"
      ],
      "text/plain": [
       "          lcavol    lweight        age       lbph        svi        lcp  \\\n",
       "count  97.000000  97.000000  97.000000  97.000000  97.000000  97.000000   \n",
       "mean    1.350010   3.628943  63.865979   0.100356   0.216495  -0.179366   \n",
       "std     1.178625   0.428411   7.445117   1.450807   0.413995   1.398250   \n",
       "min    -1.347074   2.374906  41.000000  -1.386294   0.000000  -1.386294   \n",
       "25%     0.512824   3.375880  60.000000  -1.386294   0.000000  -1.386294   \n",
       "50%     1.446919   3.623007  65.000000   0.300105   0.000000  -0.798508   \n",
       "75%     2.127041   3.876396  68.000000   1.558145   0.000000   1.178655   \n",
       "max     3.821004   4.780383  79.000000   2.326302   1.000000   2.904165   \n",
       "\n",
       "         gleason       pgg45       lpsa  \n",
       "count  97.000000   97.000000  97.000000  \n",
       "mean    6.752577   24.381443   2.478387  \n",
       "std     0.722134   28.204035   1.154329  \n",
       "min     6.000000    0.000000  -0.430783  \n",
       "25%     6.000000    0.000000   1.731656  \n",
       "50%     7.000000   15.000000   2.591516  \n",
       "75%     7.000000   40.000000   3.056357  \n",
       "max     9.000000  100.000000   5.582932  "
      ]
     },
     "execution_count": 22,
     "metadata": {},
     "output_type": "execute_result"
    }
   ],
   "source": [
    "df.shape\n",
    "df.info()\n",
    "df.describe()"
   ]
  },
  {
   "cell_type": "markdown",
   "metadata": {},
   "source": []
  },
  {
   "cell_type": "markdown",
   "metadata": {},
   "source": [
    "##  c)"
   ]
  },
  {
   "cell_type": "markdown",
   "metadata": {},
   "source": [
    "La utilidad de normalizar los datos es arreglar las varianzas y de esta forma dejar todas respecto a un mismo punto."
   ]
  },
  {
   "cell_type": "code",
   "execution_count": 23,
   "metadata": {
    "collapsed": true
   },
   "outputs": [],
   "source": [
    "from sklearn.preprocessing import StandardScaler\n",
    "scaler = StandardScaler()\n",
    "df_scaled = pd.DataFrame(scaler.fit_transform(df), columns=df.columns)\n",
    "df_scaled['lpsa'] = df['lpsa']\n",
    "\n",
    "# print df_scaled"
   ]
  },
  {
   "cell_type": "markdown",
   "metadata": {},
   "source": [
    "##  d)"
   ]
  },
  {
   "cell_type": "markdown",
   "metadata": {},
   "source": [
    "Lo importante del tercer paso en este caso, es agregar una nueva columna que contiene solamente unos(1), los cuales denotan a $x^{(0)}$ y de esta forma definir un modelo lineal en forma matricial."
   ]
  },
  {
   "cell_type": "code",
   "execution_count": 24,
   "metadata": {
    "collapsed": false
   },
   "outputs": [
    {
     "data": {
      "text/plain": [
       "LinearRegression(copy_X=True, fit_intercept=False, n_jobs=1, normalize=False)"
      ]
     },
     "execution_count": 24,
     "metadata": {},
     "output_type": "execute_result"
    }
   ],
   "source": [
    "import sklearn.linear_model as lm\n",
    "X = df_scaled.ix[:,:-1]\n",
    "N = X.shape[0]\n",
    "X.insert(X.shape[1], 'intercept', np.ones(N))\n",
    "y = df_scaled['lpsa']\n",
    "Xtrain = X[istrain]\n",
    "ytrain = y[istrain]\n",
    "Xtest = X[np.logical_not(istrain)]\n",
    "ytest = y[np.logical_not(istrain)]\n",
    "linreg = lm.LinearRegression(fit_intercept = False)\n",
    "linreg.fit(Xtrain, ytrain)"
   ]
  },
  {
   "cell_type": "markdown",
   "metadata": {},
   "source": [
    "## e)"
   ]
  },
  {
   "cell_type": "markdown",
   "metadata": {},
   "source": [
    "Para lograr definir la variable más importante, se considera la que tiene el mayor peso $\\beta$. En el caso del valor del z-score, este estandarizará los valores y de esta forma los dejará a todos en un rango cercano, el $95\\%$ debería estar entre $-2$ y $2$ (desviaciones estándares del promedio) y así los valores del peso tendrán relevancia sin importar si en el dataset hay valores que tienen valores muy altos."
   ]
  },
  {
   "cell_type": "code",
   "execution_count": 25,
   "metadata": {
    "collapsed": false
   },
   "outputs": [],
   "source": [
    "#print linreg.coef_\n",
    "\n",
    "cols = list(Xtrain.columns)\n",
    "cols.remove(\"intercept\")\n",
    "\n",
    "Xtrain_zscores = pd.DataFrame()\n",
    "\n",
    "for col in cols:\n",
    "    col_zscore = col + '_zscore'\n",
    "    Xtrain_zscores[col_zscore] = (Xtrain[col] - Xtrain[col].mean())/Xtrain[col].std(ddof=0)\n",
    "    \n",
    "    \n",
    "#zscore_matrix = Xtrain_zscores.as_matrix().transpose().tolist()"
   ]
  },
  {
   "cell_type": "markdown",
   "metadata": {},
   "source": [
    "## f)"
   ]
  },
  {
   "cell_type": "markdown",
   "metadata": {},
   "source": [
    "En este caso se obtuvieron dos errores numéricos, los cuales luego de haber calculado su error porcentual, $84,36\\%$ y $72,32\\%$ para $5$ y $10$ folds respectivamente, se puede decir que son bastante altos. A medida que se van aumentando los folds este error irá disminuyendo debido a que la cantidad valores de entrenamiento aumentará por lo que el modelo se ajustará de mejor manera. \n",
    "El error del modelo sobre el conjunto de prueba es $0,5$, con un error porcentual de $22\\%$. "
   ]
  },
  {
   "cell_type": "code",
   "execution_count": 26,
   "metadata": {
    "collapsed": true
   },
   "outputs": [],
   "source": [
    "yhat_test = linreg.predict(Xtest)\n",
    "mse_test = np.mean(np.power(yhat_test - ytest, 2))\n",
    "mse_test_p = np.mean(np.absolute((yhat_test - ytest)*(100/ytest)))\n",
    "from sklearn import cross_validation\n",
    "Xm = Xtrain.as_matrix()\n",
    "ym = ytrain.as_matrix()\n",
    "\n",
    "#print mse_test\n",
    "#print mse_test_p\n",
    "#print\n",
    "\n",
    "K=5\n",
    "k_fold = cross_validation.KFold(len(Xm),K)\n",
    "mse_cv = 0\n",
    "mse_cv_p = 0\n",
    "for k, (train, val) in enumerate(k_fold):\n",
    "    linreg = lm.LinearRegression(fit_intercept = False)\n",
    "    linreg.fit(Xm[train], ym[train])\n",
    "    yhat_val = linreg.predict(Xm[val])\n",
    "    mse_fold = np.mean(np.power(yhat_val - ym[val], 2))\n",
    "    mse_fold_p = np.mean(np.absolute((yhat_val - ym[val])*(100/ym[val])))\n",
    "    mse_cv += mse_fold\n",
    "    mse_cv_p += mse_fold_p\n",
    "mse_cv = mse_cv / K\n",
    "mse_cv_p = mse_cv_p / K\n",
    "\n",
    "#print mse_cv\n",
    "#print mse_cv_p\n",
    "#print\n",
    "\n",
    "K=10\n",
    "k_fold = cross_validation.KFold(len(Xm),K)\n",
    "mse_cv = 0\n",
    "mse_cv_p = 0\n",
    "for k, (train, val) in enumerate(k_fold):\n",
    "    linreg = lm.LinearRegression(fit_intercept = False)\n",
    "    linreg.fit(Xm[train], ym[train])\n",
    "    yhat_val = linreg.predict(Xm[val])\n",
    "    mse_fold = np.mean(np.power(yhat_val - ym[val], 2))\n",
    "    mse_fold_p = np.mean(np.absolute((yhat_val - ym[val])*(100/ym[val])))\n",
    "    mse_cv += mse_fold\n",
    "    mse_cv_p += mse_fold_p\n",
    "mse_cv = mse_cv / K\n",
    "mse_cv_p = mse_cv_p / K\n",
    "\n",
    "#print mse_cv\n",
    "#print mse_cv_p"
   ]
  },
  {
   "cell_type": "markdown",
   "metadata": {},
   "source": [
    "## g)"
   ]
  },
  {
   "cell_type": "code",
   "execution_count": 27,
   "metadata": {
    "collapsed": false
   },
   "outputs": [
    {
     "data": {
      "image/png": "[encoded data removed]",
      "text/plain": [
       "<matplotlib.figure.Figure at 0xc5812b0>"
      ]
     },
     "metadata": {},
     "output_type": "display_data"
    }
   ],
   "source": [
    "%matplotlib inline\n",
    "\n",
    "import statsmodels.api as sm\n",
    "import pylab\n",
    "\n",
    "yhat_train = linreg.predict(Xtrain)\n",
    "mse_train = np.power(yhat_train - ytrain, 2)\n",
    "\n",
    "sm.qqplot(mse_train, line='r')\n",
    "\n",
    "pylab.show()\n",
    "\n",
    "#asimetrica a la izquierda"
   ]
  },
  {
   "cell_type": "markdown",
   "metadata": {},
   "source": [
    "# Pregunta 2"
   ]
  },
  {
   "cell_type": "markdown",
   "metadata": {},
   "source": [
    "## a)"
   ]
  },
  {
   "cell_type": "code",
   "execution_count": 28,
   "metadata": {
    "collapsed": false
   },
   "outputs": [],
   "source": [
    "errorfss = []\n",
    "cantidadfss = []\n",
    "\n",
    "def fss(x, y, names_x, k = 10000):\n",
    "    p = x.shape[1]-1\n",
    "    k = min(p, k)\n",
    "    names_x = np.array(names_x)\n",
    "    remaining = range(0, p)\n",
    "    selected = [p]\n",
    "    current_score = 0.0\n",
    "    best_new_score = 0.0\n",
    "    while remaining and len(selected)<=k :\n",
    "        score_candidates = []\n",
    "        for candidate in remaining:\n",
    "            model = lm.LinearRegression(fit_intercept=False)\n",
    "            indexes = selected + [candidate]\n",
    "            x_train = x[:,indexes]\n",
    "            #predictions_train = model.fit(x_train, y).predict(x_train)\n",
    "            #residuals_train = predictions_train - y            \n",
    "            k_fold = cross_validation.KFold(len(x_train),30)\n",
    "            mse_candidate = 0\n",
    "            for j, (train, val) in enumerate(k_fold):\n",
    "                linreg = lm.LinearRegression(fit_intercept = False)\n",
    "                linreg.fit(x_train[train], y[train])\n",
    "                yhat_val = linreg.predict(x_train[val])\n",
    "                mse_fold = np.mean(np.power(yhat_val - y[val], 2))\n",
    "                mse_candidate += mse_fold\n",
    "            mse_candidate = mse_candidate/30\n",
    "            #mse_candidate = np.mean(np.power(residuals_train, 2))\n",
    "            score_candidates.append((mse_candidate, candidate))\n",
    "            \n",
    "            \n",
    "        cantidadfss.append(len(selected))           \n",
    "        score_candidates.sort()\n",
    "        score_candidates[:] = score_candidates[::-1]\n",
    "        best_new_score, best_candidate = score_candidates.pop()\n",
    "        remaining.remove(best_candidate)\n",
    "        selected.append(best_candidate)\n",
    "        errorfss.append(best_new_score)\n",
    "        \n",
    "        print \"selected = %s ...\"%names_x[best_candidate]\n",
    "        print \"totalvars=%d, mse = %f\"%(len(indexes)-1,best_new_score)\n",
    "    return selected"
   ]
  },
  {
   "cell_type": "markdown",
   "metadata": {},
   "source": [
    "Nuestro criterio de selección e variable dejo fuera a 'Gleason', lo cual tiene sentido ya que se corrobora a través de los pesos $\\beta$, donde el asociado a la variable que tenemos es el menor."
   ]
  },
  {
   "cell_type": "code",
   "execution_count": 29,
   "metadata": {
    "collapsed": false
   },
   "outputs": [
    {
     "name": "stdout",
     "output_type": "stream",
     "text": [
      "selected = lcavol ...\n",
      "totalvars=1, mse = 0.698346\n",
      "selected = lweight ...\n",
      "totalvars=2, mse = 0.617108\n",
      "selected = svi ...\n",
      "totalvars=3, mse = 0.616920\n",
      "selected = lbph ...\n",
      "totalvars=4, mse = 0.611784\n",
      "selected = age ...\n",
      "totalvars=5, mse = 0.611313\n",
      "selected = pgg45 ...\n",
      "totalvars=6, mse = 0.612737\n",
      "selected = lcp ...\n",
      "totalvars=7, mse = 0.589822\n",
      "selected = gleason ...\n",
      "totalvars=8, mse = 0.617262\n",
      "[8L, 0, 1, 4, 3, 2, 7, 5, 6]\n"
     ]
    }
   ],
   "source": [
    "names_regressors = [\"lcavol\", \"lweight\", \"age\", \"lbph\", \"svi\", \"lcp\", \"gleason\", \"pgg45\"]\n",
    "indices_secuencia_fss = fss(Xm,ym,names_regressors)\n",
    "print indices_secuencia_fss"
   ]
  },
  {
   "cell_type": "code",
   "execution_count": 30,
   "metadata": {
    "collapsed": false
   },
   "outputs": [
    {
     "data": {
      "image/png": "[encoded data removed]",
      "text/plain": [
       "<matplotlib.figure.Figure at 0xd939cc0>"
      ]
     },
     "metadata": {},
     "output_type": "display_data"
    }
   ],
   "source": [
    "%matplotlib inline\n",
    "\n",
    "secuencia_fss = []\n",
    "\n",
    "for i in indices_secuencia_fss[1:]:\n",
    "    secuencia_fss.append(names_regressors[i])\n",
    "\n",
    "errortest = []\n",
    "cantidadvariables = []\n",
    "\n",
    "\n",
    "X0_train = pd.DataFrame()\n",
    "X0_train['lcavol'] = Xtrain['lcavol']\n",
    "Ntrain = X0_train.shape[0]\n",
    "\n",
    "X0_test = pd.DataFrame()\n",
    "X0_test['lcavol'] = Xtest['lcavol']\n",
    "Ntest = X0_test.shape[0]\n",
    "\n",
    "X0_train.insert(X0_train.shape[1], 'intercept', np.ones(Ntrain))\n",
    "X0_test.insert(X0_test.shape[1], 'intercept', np.ones(Ntest))\n",
    "\n",
    "linreg = lm.LinearRegression(fit_intercept = False)\n",
    "linreg.fit(X0_train, ytrain)\n",
    "\n",
    "yhat_test = linreg.predict(X0_test)\n",
    "mse_test = np.mean(np.power(yhat_test - ytest, 2))\n",
    "errortest.append(mse_test)\n",
    "cantidadvariables.append(1)\n",
    "\n",
    "for k in range(1,8):\n",
    "    X0_train.insert(X0_train.shape[1], secuencia_fss[k], Xtrain[secuencia_fss[k]])\n",
    "    X0_test.insert(X0_test.shape[1], secuencia_fss[k], Xtest[secuencia_fss[k]])\n",
    "    #print X0_train\n",
    "    linreg = lm.LinearRegression(fit_intercept = False)\n",
    "    linreg.fit(X0_train, ytrain)\n",
    "    \n",
    "    yhat_test = linreg.predict(X0_test)\n",
    "    mse_test = np.mean(np.power(yhat_test - ytest, 2))\n",
    "    errortest.append(mse_test)\n",
    "    cantidadvariables.append(k+1)\n",
    "    \n",
    "\n",
    "import matplotlib\n",
    "import matplotlib.pyplot as plt\n",
    "\n",
    "axes = plt.gca()\n",
    "plt.plot(cantidadvariables, errortest, color='blue', linewidth=3, label = \"test set\")\n",
    "plt.plot(cantidadfss, errorfss , color='red', linewidth=3, label = \"train set\")\n",
    "axes.set_ylim([0.3,0.8])\n",
    "plt.title('Error versus numero de variables ')\n",
    "plt.legend()\n",
    "plt.xlabel('Numero de variables')\n",
    "plt.ylabel('Error MSE')\n",
    "plt.show()"
   ]
  },
  {
   "cell_type": "markdown",
   "metadata": {},
   "source": [
    "## b) "
   ]
  },
  {
   "cell_type": "code",
   "execution_count": 31,
   "metadata": {
    "collapsed": true
   },
   "outputs": [],
   "source": [
    "def bss(x, y, names_x, k = 10000):\n",
    "    p = x.shape[1]\n",
    "    k = min(p, k)\n",
    "    names_x = np.array(names_x)\n",
    "    remaining = range(0, p)\n",
    "    selected = []\n",
    "    current_score = 0.0\n",
    "    best_new_score = 0.0\n",
    "    while len(remaining)>2 :\n",
    "        score_candidates = []\n",
    "        for candidate in remaining:\n",
    "            model = lm.LinearRegression(fit_intercept=False)\n",
    "            indexes = remaining[:]\n",
    "            indexes.remove(candidate)\n",
    "            x_train = x[:,indexes]\n",
    "            predictions_train = model.fit(x_train, y).predict(x_train)\n",
    "            residuals_train = predictions_train - y\n",
    "            mse_candidate = np.mean(np.power(residuals_train, 2))\n",
    "            score_candidates.append((mse_candidate, candidate))\n",
    "        score_candidates.sort()\n",
    "        score_candidates[:] = score_candidates[::-1]\n",
    "        best_new_score, best_candidate = score_candidates.pop()\n",
    "        remaining.remove(best_candidate)\n",
    "        selected.append(best_candidate)\n",
    "        print \"removed = %s ...\"%names_x[best_candidate]\n",
    "        print \"totalvars = %d, mse = %f\"%(len(indexes)-1,best_new_score)\n",
    "    \n",
    "    return selected"
   ]
  },
  {
   "cell_type": "code",
   "execution_count": 32,
   "metadata": {
    "collapsed": false
   },
   "outputs": [
    {
     "name": "stdout",
     "output_type": "stream",
     "text": [
      "removed = gleason ...\n",
      "totalvars = 7, mse = 0.439363\n",
      "removed = age ...\n",
      "totalvars = 6, mse = 0.455818\n",
      "removed = lcp ...\n",
      "totalvars = 5, mse = 0.478648\n",
      "removed = pgg45 ...\n",
      "totalvars = 4, mse = 0.489776\n",
      "removed = lbph ...\n",
      "totalvars = 3, mse = 0.521011\n",
      "removed = svi ...\n",
      "totalvars = 2, mse = 0.553610\n",
      "removed = lweight ...\n",
      "totalvars = 1, mse = 0.664606\n",
      "[6, 2, 5, 7, 3, 4, 1]\n"
     ]
    }
   ],
   "source": [
    "indices_secuencia_bss = bss(Xm,ym,names_regressors)\n",
    "print indices_secuencia_bss"
   ]
  },
  {
   "cell_type": "code",
   "execution_count": null,
   "metadata": {
    "collapsed": true
   },
   "outputs": [],
   "source": [
    "%matplotlib inline\n",
    "\n",
    "secuencia_bss = []\n",
    "\n",
    "for i in indices_secuencia_bss[1:]:\n",
    "    secuencia_bss.append(names_regressors[i])\n",
    "\n"
   ]
  },
  {
   "cell_type": "markdown",
   "metadata": {},
   "source": [
    "<h3>Pregunta 3</h3>"
   ]
  },
  {
   "cell_type": "markdown",
   "metadata": {},
   "source": [
    "<h4>a)</h4>"
   ]
  },
  {
   "cell_type": "code",
   "execution_count": 28,
   "metadata": {
    "collapsed": false
   },
   "outputs": [
    {
     "name": "stdout",
     "output_type": "stream",
     "text": [
      "(50L,)\n",
      "(50L,)\n",
      "(50L,)\n",
      "(50L,)\n",
      "(50L,)\n",
      "(50L,)\n",
      "(50L,)\n",
      "(50L,)\n",
      "(50L,)\n",
      "(50L,)\n",
      "(50L,)\n",
      "(50L,)\n",
      "(50L,)\n",
      "(50L,)\n",
      "(50L,)\n",
      "(50L,)\n"
     ]
    },
    {
     "data": {
      "image/png": "[encoded data removed]",
      "text/plain": [
       "<matplotlib.figure.Figure at 0xb5eb470>"
      ]
     },
     "metadata": {},
     "output_type": "display_data"
    }
   ],
   "source": [
    "from sklearn.linear_model import Ridge\n",
    "import matplotlib.pylab as plt\n",
    "\n",
    "X = X.drop('intercept', axis=1)\n",
    "Xtrain = X[istrain]\n",
    "ytrain = y[istrain]\n",
    "names_regressors = [\"Lcavol\", \"Lweight\", \"Age\", \"Lbph\", \"Svi\", \"Lcp\", \"Gleason\", \"Pgg45\"]\n",
    "alphas_ = np.logspace(4,-1,base=10)\n",
    "coefs = []\n",
    "model = Ridge(fit_intercept=True,solver='svd')\n",
    "for a in alphas_:\n",
    "    model.set_params(alpha=a)\n",
    "    model.fit(Xtrain, ytrain)\n",
    "    coefs.append(model.coef_)\n",
    "ax = plt.gca()\n",
    "for y_arr, label in zip(np.squeeze(coefs).T, names_regressors):\n",
    "    print alphas_.shape\n",
    "    print y_arr.shape\n",
    "    plt.plot(alphas_, y_arr, label=label)\n",
    "plt.legend()\n",
    "ax.set_xscale('log')\n",
    "ax.set_xlim(ax.get_xlim()[::-1]) # reverse axis\n",
    "plt.xlabel('alpha')\n",
    "plt.ylabel('weights')\n",
    "plt.title('Regularization Path RIDGE')\n",
    "plt.axis('tight')\n",
    "plt.legend(loc=2)\n",
    "plt.show()"
   ]
  },
  {
   "cell_type": "markdown",
   "metadata": {},
   "source": []
  },
  {
   "cell_type": "markdown",
   "metadata": {},
   "source": [
    "<h4>b)</h4>"
   ]
  },
  {
   "cell_type": "code",
   "execution_count": 32,
   "metadata": {
    "collapsed": false
   },
   "outputs": [
    {
     "name": "stdout",
     "output_type": "stream",
     "text": [
      "(50L,)\n",
      "(50L,)\n",
      "(50L,)\n",
      "(50L,)\n",
      "(50L,)\n",
      "(50L,)\n",
      "(50L,)\n",
      "(50L,)\n",
      "(50L,)\n",
      "(50L,)\n",
      "(50L,)\n",
      "(50L,)\n",
      "(50L,)\n",
      "(50L,)\n",
      "(50L,)\n",
      "(50L,)\n"
     ]
    },
    {
     "data": {
      "image/png": "[encoded data removed]",
      "text/plain": [
       "<matplotlib.figure.Figure at 0xd0f8940>"
      ]
     },
     "metadata": {},
     "output_type": "display_data"
    }
   ],
   "source": [
    "from sklearn.linear_model import Lasso\n",
    "\n",
    "#X = X.drop('intercept', axis=1)\n",
    "Xtrain = X[istrain]\n",
    "ytrain = y[istrain]\n",
    "names_regressors = [\"Lcavol\", \"Lweight\", \"Age\", \"Lbph\", \"Svi\", \"Lcp\", \"Gleason\", \"Pgg45\"]\n",
    "alphas_ = np.logspace(1,-2,base=10)\n",
    "coefs = []\n",
    "clf = Lasso(fit_intercept=True)\n",
    "for a in alphas_:\n",
    "    clf.set_params(alpha=a)\n",
    "    clf.fit(Xtrain, ytrain)\n",
    "    coefs.append(clf.coef_)\n",
    "ax = plt.gca()\n",
    "for y_arr, label in zip(np.squeeze(coefs).T, names_regressors):\n",
    "    print alphas_.shape\n",
    "    print y_arr.shape\n",
    "    plt.plot(alphas_, y_arr, label=label)\n",
    "plt.legend()\n",
    "ax.set_xscale('log')\n",
    "ax.set_xlim(ax.get_xlim()[::-1]) # reverse axis\n",
    "plt.xlabel('alpha')\n",
    "plt.ylabel('weights')\n",
    "plt.title('Regularization Path RIDGE')\n",
    "plt.axis('tight')\n",
    "plt.legend(loc=2)\n",
    "plt.show()"
   ]
  },
  {
   "cell_type": "markdown",
   "metadata": {},
   "source": [
    "<h4>c)</h4>"
   ]
  },
  {
   "cell_type": "code",
   "execution_count": 35,
   "metadata": {
    "collapsed": false
   },
   "outputs": [
    {
     "data": {
      "image/png": "[encoded data removed]",
      "text/plain": [
       "<matplotlib.figure.Figure at 0xb61b978>"
      ]
     },
     "metadata": {},
     "output_type": "display_data"
    }
   ],
   "source": [
    "Xtest = X[np.logical_not(istrain)]\n",
    "ytest = y[np.logical_not(istrain)]\n",
    "alphas_ = np.logspace(2,-2,base=10)\n",
    "coefs = []\n",
    "model = Ridge(fit_intercept=True)\n",
    "mse_test = []\n",
    "mse_train = []\n",
    "for a in alphas_:\n",
    "    model.set_params(alpha=a)\n",
    "    model.fit(Xtrain, ytrain)\n",
    "    yhat_train = model.predict(Xtrain)\n",
    "    yhat_test = model.predict(Xtest)\n",
    "    mse_train.append(np.mean(np.power(yhat_train - ytrain, 2)))\n",
    "    mse_test.append(np.mean(np.power(yhat_test - ytest, 2)))\n",
    "ax = plt.gca()\n",
    "ax.plot(alphas_,mse_train,label='train error ridge')\n",
    "ax.plot(alphas_,mse_test,label='test error ridge')\n",
    "plt.legend(loc=2)\n",
    "ax.set_xscale('log')\n",
    "ax.set_xlim(ax.get_xlim()[::-1])\n",
    "plt.show()"
   ]
  },
  {
   "cell_type": "markdown",
   "metadata": {},
   "source": [
    "<h4>d)</h4>"
   ]
  },
  {
   "cell_type": "code",
   "execution_count": null,
   "metadata": {
    "collapsed": true
   },
   "outputs": [],
   "source": []
  },
  {
   "cell_type": "code",
   "execution_count": 36,
   "metadata": {
    "collapsed": false
   },
   "outputs": [
    {
     "data": {
      "image/png": "[encoded data removed]",
      "text/plain": [
       "<matplotlib.figure.Figure at 0xd1446a0>"
      ]
     },
     "metadata": {},
     "output_type": "display_data"
    }
   ],
   "source": [
    "Xtest = X[np.logical_not(istrain)]\n",
    "ytest = y[np.logical_not(istrain)]\n",
    "alphas_ = np.logspace(0.5,2,base=10)\n",
    "coefs = []\n",
    "model = Lasso(fit_intercept=True)\n",
    "mse_test = []\n",
    "mse_train = []\n",
    "for a in alphas_:\n",
    "    model.set_params(alpha=a)\n",
    "    model.fit(Xtrain, ytrain)\n",
    "    yhat_train = model.predict(Xtrain)\n",
    "    yhat_test = model.predict(Xtest)\n",
    "    mse_train.append(np.mean(np.power(yhat_train - ytrain, 2)))\n",
    "    mse_test.append(np.mean(np.power(yhat_test - ytest, 2)))\n",
    "ax = plt.gca()\n",
    "ax.plot(alphas_,mse_train,label='train error ridge')\n",
    "ax.plot(alphas_,mse_test,label='test error ridge')\n",
    "plt.legend(loc=2)\n",
    "ax.set_xscale('log')\n",
    "ax.set_xlim(ax.get_xlim()[::-1])\n",
    "plt.show()"
   ]
  },
  {
   "cell_type": "markdown",
   "metadata": {},
   "source": [
    "<h4>e)</h4>"
   ]
  },
  {
   "cell_type": "code",
   "execution_count": 42,
   "metadata": {
    "collapsed": false
   },
   "outputs": [
    {
     "ename": "IndentationError",
     "evalue": "unexpected indent (<ipython-input-42-f89d75245695>, line 10)",
     "output_type": "error",
     "traceback": [
      "\u001b[1;36m  File \u001b[1;32m\"<ipython-input-42-f89d75245695>\"\u001b[1;36m, line \u001b[1;32m10\u001b[0m\n\u001b[1;33m    if np.mean(mse_list_k10) < best_cv_mse:\u001b[0m\n\u001b[1;37m    ^\u001b[0m\n\u001b[1;31mIndentationError\u001b[0m\u001b[1;31m:\u001b[0m unexpected indent\n"
     ]
    }
   ],
   "source": [
    "def MSE(y,yhat): return np.mean(np.power(y-yhat,2))\n",
    "Xm = Xtrain.as_matrix()\n",
    "ym = ytrain.as_matrix()\n",
    "k_fold = cross_validation.KFold(len(Xm),10)\n",
    "best_cv_mse = float(\"inf\")\n",
    "model = Lasso(fit_intercept=True)\n",
    "for a in alphas_:\n",
    "    model.set_params(alpha=a)\n",
    "    mse_list_k10 = [MSE(model.fit(Xm[train], ym[train]).predict(Xm[val]), ym[val])\\for train, val in k_fold]\n",
    "        if np.mean(mse_list_k10) < best_cv_mse:\n",
    "            best_cv_mse = np.mean(mse_list_k10)\n",
    "            best_alpha = a\n",
    "            print \"BEST PARAMETER=%f, MSE(CV)=%f\"%(best_alpha,best_cv_mse)"
   ]
  },
  {
   "cell_type": "code",
   "execution_count": null,
   "metadata": {
    "collapsed": true
   },
   "outputs": [],
   "source": []
  },
  {
   "cell_type": "code",
   "execution_count": null,
   "metadata": {
    "collapsed": true
   },
   "outputs": [],
   "source": []
  },
  {
   "cell_type": "code",
   "execution_count": null,
   "metadata": {
    "collapsed": true
   },
   "outputs": [],
   "source": []
  },
  {
   "cell_type": "code",
   "execution_count": null,
   "metadata": {
    "collapsed": true
   },
   "outputs": [],
   "source": []
  },
  {
   "cell_type": "code",
   "execution_count": null,
   "metadata": {
    "collapsed": true
   },
   "outputs": [],
   "source": []
  },
  {
   "cell_type": "code",
   "execution_count": null,
   "metadata": {
    "collapsed": true
   },
   "outputs": [],
   "source": []
  },
  {
   "cell_type": "code",
   "execution_count": null,
   "metadata": {
    "collapsed": true
   },
   "outputs": [],
   "source": []
  },
  {
   "cell_type": "code",
   "execution_count": null,
   "metadata": {
    "collapsed": true
   },
   "outputs": [],
   "source": []
  },
  {
   "cell_type": "code",
   "execution_count": null,
   "metadata": {
    "collapsed": true
   },
   "outputs": [],
   "source": []
  }
 ],
 "metadata": {
  "anaconda-cloud": {},
  "kernelspec": {
   "display_name": "Python [Root]",
   "language": "python",
   "name": "Python [Root]"
  },
  "language_info": {
   "codemirror_mode": {
    "name": "ipython",
    "version": 2
   },
   "file_extension": ".py",
   "mimetype": "text/x-python",
   "name": "python",
   "nbconvert_exporter": "python",
   "pygments_lexer": "ipython2",
   "version": "2.7.12"
  }
 },
 "nbformat": 4,
 "nbformat_minor": 0
}
