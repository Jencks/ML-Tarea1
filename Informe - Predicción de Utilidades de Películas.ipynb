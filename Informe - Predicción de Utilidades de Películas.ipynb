{
 "cells": [
  {
   "cell_type": "markdown",
   "metadata": {},
   "source": [
    "<center><h1> Tarea 1 - Machine Learning </h1></center>\n",
    "<center><h3> Matías Ramírez Marianetti | Javier Rodríguez Aguilera</h3></center>\n",
    "<center><h3> 201173506-4 | 201173553-6 </h3></center>\n",
    "<center><h3> matias.ramirezm@alumnos.usm.cl | javier.rodriguez@alumnos.usm.cl </h3></center>"
   ]
  },
  {
   "cell_type": "markdown",
   "metadata": {},
   "source": [
    "# Pregunta 4:  Predicción de Utilidades de Películas"
   ]
  },
  {
   "cell_type": "markdown",
   "metadata": {},
   "source": [
    "## Parte A: "
   ]
  },
  {
   "cell_type": "code",
   "execution_count": 1,
   "metadata": {
    "collapsed": true
   },
   "outputs": [],
   "source": [
    "import pandas as pd\n",
    "import numpy as np\n",
    "from scipy.sparse import csr_matrix\n",
    "from scipy.io import mmread\n",
    "\n",
    "path = 'movies/movies-preproc/ngrams-deprels-fp1-origin.runtime.budget.numscreen.ratings.seasons.stars/'\n",
    "\n",
    "X_train = csr_matrix(mmread(path + 'train.x.mm'))\n",
    "y_train = np.loadtxt(path + 'train.y.dat')\n",
    "\n",
    "X_test = csr_matrix(mmread(path + 'test.x.mm'))\n",
    "y_test = np.loadtxt(path + 'test.y.dat')\n",
    "\n",
    "X_val = csr_matrix(mmread(path + 'dev.x.mm'))\n",
    "y_val = np.loadtxt(path + 'dev.y.dat')"
   ]
  },
  {
   "cell_type": "markdown",
   "metadata": {},
   "source": [
    "sparse"
   ]
  },
  {
   "cell_type": "markdown",
   "metadata": {},
   "source": [
    "## Parte B: "
   ]
  },
  {
   "cell_type": "code",
   "execution_count": 7,
   "metadata": {
    "collapsed": false
   },
   "outputs": [
    {
     "name": "stdout",
     "output_type": "stream",
     "text": [
      "0.556406842352\n"
     ]
    }
   ],
   "source": [
    "import sklearn.linear_model as lm\n",
    "\n",
    "model = lm.LinearRegression(fit_intercept=True, normalize=True)\n",
    "model.fit(X_train, y_train)\n",
    "\n",
    "#mse_train = np.mean(np.power(model.predict(X_train) - y_train, 2))\n",
    "#mse_test = np.mean(np.power(model.predict(X_test) - y_test, 2))\n",
    "#mse_val = np.mean(np.power(model.predict(X_val) - y_val, 2))\n",
    "\n",
    "#print mse_train\n",
    "#print mse_test\n",
    "#print mse_val\n",
    "\n",
    "print model.score(X_test, y_test)"
   ]
  },
  {
   "cell_type": "code",
   "execution_count": null,
   "metadata": {
    "collapsed": false
   },
   "outputs": [],
   "source": [
    "%matplotlib inline\n",
    "\n",
    "import matplotlib.pyplot as plt\n",
    "from sklearn.linear_model import Ridge\n",
    "\n",
    "model = Ridge(fit_intercept=True, normalize=True, solver='sag')\n",
    "scores = []\n",
    "alphas_ = np.logspace(2,-2,base=10)\n",
    "for a in alphas_:\n",
    "    model.set_params(alpha=a)\n",
    "    model.fit(X_train, y_train)\n",
    "    score = model.score(X_test, y_test)\n",
    "    scores.append(score)\n",
    "\n",
    "ax = plt.gca()\n",
    "ax.plot(alphas_,scores,label='test score ridge')\n",
    "plt.legend(loc=2)\n",
    "ax.set_xscale('log')\n",
    "ax.set_xlim(ax.get_xlim()[::-1])\n",
    "plt.show()"
   ]
  },
  {
   "cell_type": "code",
   "execution_count": null,
   "metadata": {
    "collapsed": true
   },
   "outputs": [],
   "source": [
    "from sklearn.linear_model import Lasso\n",
    "\n",
    "model = Lasso(fit_intercept=True, normalize=True)\n",
    "scores = []\n",
    "alphas_ = np.logspace(2,-2,base=10)\n",
    "for a in alphas_:\n",
    "    model.set_params(alpha=a)\n",
    "    model.fit(X_train, y_train)\n",
    "    score = model.score(X_test, y_test)\n",
    "    scores.append(score)\n",
    "\n",
    "ax = plt.gca()\n",
    "ax.plot(alphas_,scores,label='test score lasso')\n",
    "plt.legend(loc=2)\n",
    "ax.set_xscale('log')\n",
    "ax.set_xlim(ax.get_xlim()[::-1])\n",
    "plt.show()"
   ]
  }
 ],
 "metadata": {
  "kernelspec": {
   "display_name": "Python [Root]",
   "language": "python",
   "name": "Python [Root]"
  },
  "language_info": {
   "codemirror_mode": {
    "name": "ipython",
    "version": 2
   },
   "file_extension": ".py",
   "mimetype": "text/x-python",
   "name": "python",
   "nbconvert_exporter": "python",
   "pygments_lexer": "ipython2",
   "version": "2.7.12"
  }
 },
 "nbformat": 4,
 "nbformat_minor": 0
}
