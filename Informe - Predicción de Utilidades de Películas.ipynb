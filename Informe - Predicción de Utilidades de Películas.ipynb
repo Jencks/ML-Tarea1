{
 "cells": [
  {
   "cell_type": "markdown",
   "metadata": {},
   "source": [
    "<center><h1> Tarea 1 - Machine Learning </h1></center>\n",
    "<center><h3> Matías Ramírez Marianetti | Javier Rodríguez Aguilera</h3></center>\n",
    "<center><h3> 201173506-4 | 201173553-6 </h3></center>\n",
    "<center><h3> matias.ramirezm@alumnos.usm.cl | javier.rodriguez@alumnos.usm.cl </h3></center>"
   ]
  },
  {
   "cell_type": "markdown",
   "metadata": {},
   "source": [
    "## Pregunta 4:  Predicción de Utilidades de Películas"
   ]
  },
  {
   "cell_type": "markdown",
   "metadata": {},
   "source": [
    "## Parte A: "
   ]
  },
  {
   "cell_type": "code",
   "execution_count": null,
   "metadata": {
    "collapsed": true
   },
   "outputs": [],
   "source": [
    "import pandas as pd\n",
    "import numpy as np\n",
    "from scipy.sparse import csr_matrix\n",
    "from scipy.io import mmread\n",
    "\n",
    "path = 'movies/movies-preproc/ngrams-deprels-fp1-origin.runtime.budget.numscreen.ratings.seasons.stars/'\n",
    "\n",
    "X_train = csr_matrix(mmread(path + 'train.x.mm'))\n",
    "y_train = np.loadtxt(path + 'train.y.dat')\n",
    "\n",
    "X_test = csr_matrix(mmread(path + 'test.x.mm'))\n",
    "y_test = np.loadtxt(path + 'test.y.dat')\n",
    "\n",
    "X_val = csr_matrix(mmread(path + 'dev.x.mm'))\n",
    "y_val = np.loadtxt(path + 'dev.y.dat')"
   ]
  },
  {
   "cell_type": "markdown",
   "metadata": {},
   "source": [
    "sparse"
   ]
  },
  {
   "cell_type": "markdown",
   "metadata": {},
   "source": [
    "## Parte B: "
   ]
  },
  {
   "cell_type": "code",
   "execution_count": null,
   "metadata": {
    "collapsed": true
   },
   "outputs": [],
   "source": []
  }
 ],
 "metadata": {
  "kernelspec": {
   "display_name": "Python [Root]",
   "language": "python",
   "name": "Python [Root]"
  },
  "language_info": {
   "codemirror_mode": {
    "name": "ipython",
    "version": 2
   },
   "file_extension": ".py",
   "mimetype": "text/x-python",
   "name": "python",
   "nbconvert_exporter": "python",
   "pygments_lexer": "ipython2",
   "version": "2.7.12"
  }
 },
 "nbformat": 4,
 "nbformat_minor": 0
}
